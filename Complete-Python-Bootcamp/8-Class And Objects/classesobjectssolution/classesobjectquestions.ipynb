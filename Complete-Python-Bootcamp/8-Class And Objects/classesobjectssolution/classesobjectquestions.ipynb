{
 "cells": [
  {
   "cell_type": "markdown",
   "metadata": {},
   "source": [
    "# Module: Classes and Objects Assignments\n",
    "## Lesson: Creating and Working with Classes and Objects\n",
    "### Assignment 1: Basic Class and Object Creation\n",
    "\n",
    "Create a class named `Car` with attributes `make`, `model`, and `year`. Create an object of the class and print its attributes.\n",
    "\n",
    "### Assignment 2: Methods in Class\n",
    "\n",
    "Add a method named `start_engine` to the `Car` class that prints a message when the engine starts. Create an object of the class and call the method.\n",
    "\n",
    "### Assignment 3: Class with Constructor\n",
    "\n",
    "Create a class named `Student` with attributes `name` and `age`. Use a constructor to initialize these attributes. Create an object of the class and print its attributes.\n",
    "\n",
    "### Assignment 4: Class with Private Attributes\n",
    "\n",
    "Create a class named `BankAccount` with private attributes `account_number` and `balance`. Add methods to deposit and withdraw money, and to check the balance. Create an object of the class and perform some operations.\n",
    "\n",
    "### Assignment 5: Class Inheritance\n",
    "\n",
    "Create a base class named `Person` with attributes `name` and `age`. Create a derived class named `Employee` that inherits from `Person` and adds an attribute `employee_id`. Create an object of the derived class and print its attributes.\n",
    "\n",
    "### Assignment 6: Method Overriding\n",
    "\n",
    "In the `Employee` class, override the `__str__` method to return a string representation of the object. Create an object of the class and print it.\n",
    "\n",
    "### Assignment 7: Class Composition\n",
    "\n",
    "Create a class named `Address` with attributes `street`, `city`, and `zipcode`. Create a class named `Person` that has an `Address` object as an attribute. Create an object of the `Person` class and print its address.\n",
    "\n",
    "### Assignment 8: Class with Class Variables\n",
    "\n",
    "Create a class named `Counter` with a class variable `count`. Each time an object is created, increment the count. Add a method to get the current count. Create multiple objects and print the count.\n",
    "\n",
    "### Assignment 9: Static Methods\n",
    "\n",
    "Create a class named `MathOperations` with a static method to calculate the square root of a number. Call the static method without creating an object.\n",
    "\n",
    "### Assignment 10: Class with Properties\n",
    "\n",
    "Create a class named `Rectangle` with private attributes `length` and `width`. Use properties to get and set these attributes. Create an object of the class and test the properties.\n",
    "\n",
    "### Assignment 11: Abstract Base Class\n",
    "\n",
    "Create an abstract base class named `Shape` with an abstract method `area`. Create derived classes `Circle` and `Square` that implement the `area` method. Create objects of the derived classes and call the `area` method.\n",
    "\n",
    "### Assignment 12: Operator Overloading\n",
    "\n",
    "Create a class named `Vector` with attributes `x` and `y`. Overload the `+` operator to add two `Vector` objects. Create objects of the class and test the operator overloading.\n",
    "\n",
    "### Assignment 13: Class with Custom Exception\n",
    "\n",
    "Create a custom exception named `InsufficientBalanceError`. In the `BankAccount` class, raise this exception when a withdrawal amount is greater than the balance. Handle the exception and print an appropriate message.\n",
    "\n",
    "### Assignment 14: Class with Context Manager\n",
    "\n",
    "Create a class named `FileManager` that implements the context manager protocol to open and close a file. Use this class to read the contents of a file.\n",
    "\n",
    "### Assignment 15: Chaining Methods\n",
    "\n",
    "Create a class named `Calculator` with methods to add, subtract, multiply, and divide. Each method should return the object itself to allow method chaining. Create an object and chain multiple method calls."
   ]
  },
  {
   "cell_type": "code",
   "execution_count": null,
   "metadata": {},
   "outputs": [],
   "source": [
    "#1\n",
    "\n",
    "class Car:\n",
    "    def __init__(self, make, model, year):\n",
    "        self.make = make\n",
    "        self.model = model\n",
    "        self.year = year"
   ]
  },
  {
   "cell_type": "code",
   "execution_count": 6,
   "id": "817500ce",
   "metadata": {},
   "outputs": [
    {
     "name": "stdout",
     "output_type": "stream",
     "text": [
      "Honda\n",
      "Civic\n",
      "2020\n"
     ]
    }
   ],
   "source": [
    "car = Car(\"Honda\", \"Civic\", 2020)\n",
    "print(car.make)\n",
    "print(car.model)\n",
    "print(car.year)\n",
    "        "
   ]
  },
  {
   "cell_type": "code",
   "execution_count": 8,
   "id": "b6dd2be3",
   "metadata": {},
   "outputs": [
    {
     "name": "stdout",
     "output_type": "stream",
     "text": [
      "Engine started\n"
     ]
    }
   ],
   "source": [
    "#2\n",
    "\n",
    "class Car:\n",
    "    def __init__(self, make, model, year):\n",
    "        self.make = make\n",
    "        self.model = model\n",
    "        self.year = year\n",
    "    \n",
    "    def start_engine(self):\n",
    "        print(\"Engine started\")\n",
    "\n",
    "car = Car(\"Honda\", \"Civic\", 2020)\n",
    "car.start_engine()"
   ]
  },
  {
   "cell_type": "code",
   "execution_count": 9,
   "id": "3285eeee",
   "metadata": {},
   "outputs": [
    {
     "name": "stdout",
     "output_type": "stream",
     "text": [
      "Abhay\n",
      "22\n"
     ]
    }
   ],
   "source": [
    "#3\n",
    "\n",
    "class Student:\n",
    "    def __init__(self, name, age):\n",
    "        self.name = name\n",
    "        self.age = age\n",
    "    \n",
    "stu = Student(\"Abhay\", 22)\n",
    "print(stu.name)\n",
    "print(stu.age)\n",
    "        "
   ]
  },
  {
   "cell_type": "code",
   "execution_count": 10,
   "id": "796c6ab7",
   "metadata": {},
   "outputs": [
    {
     "name": "stdout",
     "output_type": "stream",
     "text": [
      "Deposit of 500 successful. New balance: 1500\n",
      "Withdrawal of 200 successful. New balance: 1300\n",
      "Current balance: 1300\n"
     ]
    }
   ],
   "source": [
    "#4\n",
    "\n",
    "class BankAccount:\n",
    "    def __init__(self, account_number, balance):\n",
    "        self.account_number = account_number\n",
    "        self.balance = balance\n",
    "    \n",
    "    def deposit(self, amount):\n",
    "        self.balance += amount\n",
    "        print(f'Deposit of {amount} successful. New balance: {self.balance}')\n",
    "\n",
    "    def withdraw(self, amount):\n",
    "        if amount > self.balance:\n",
    "            print(\"Insufficient balance\")\n",
    "        else:\n",
    "            self.balance -= amount\n",
    "            print(f'Withdrawal of {amount} successful. New balance: {self.balance}')\n",
    "\n",
    "    def check_balance(self):\n",
    "        print(f'Current balance: {self.balance}')\n",
    "\n",
    "account = BankAccount(\"123456789\", 1000)\n",
    "account.deposit(500)\n",
    "account.withdraw(200)\n",
    "account.check_balance()\n",
    "    "
   ]
  },
  {
   "cell_type": "code",
   "execution_count": 11,
   "id": "afe27480",
   "metadata": {},
   "outputs": [
    {
     "name": "stdout",
     "output_type": "stream",
     "text": [
      "Abhay\n",
      "22\n",
      "123\n"
     ]
    }
   ],
   "source": [
    "#5\n",
    "\n",
    "class Person:\n",
    "    def __init__(self, name, age):\n",
    "        self.name = name\n",
    "        self.age = age\n",
    "\n",
    "class Employee(Person):\n",
    "    def __init__(self, name, age, employee_id):\n",
    "        super().__init__(name, age)\n",
    "        self.employee_id = employee_id\n",
    "    \n",
    "emp = Employee(\"Abhay\", 22, 123)\n",
    "print(emp.name)\n",
    "print(emp.age)\n",
    "print(emp.employee_id)\n"
   ]
  },
  {
   "cell_type": "code",
   "execution_count": 12,
   "id": "79f6315f",
   "metadata": {},
   "outputs": [
    {
     "name": "stdout",
     "output_type": "stream",
     "text": [
      "Name: Abhay, Employee ID: 123\n"
     ]
    }
   ],
   "source": [
    "#6\n",
    "\n",
    "class Employee:\n",
    "    def __init__(self, name, employee_id):\n",
    "        self.name = name\n",
    "        self.employee_id = employee_id\n",
    "    \n",
    "    def __str__(self):\n",
    "        return f\"Name: {self.name}, Employee ID: {self.employee_id}\"\n",
    "\n",
    "emp = Employee(\"Abhay\", 123)\n",
    "print(emp)"
   ]
  },
  {
   "cell_type": "code",
   "execution_count": 13,
   "id": "e0f9316b",
   "metadata": {},
   "outputs": [
    {
     "name": "stdout",
     "output_type": "stream",
     "text": [
      "Abhay\n",
      "22\n",
      "123 Main St\n",
      "Anytown\n",
      "12345\n"
     ]
    }
   ],
   "source": [
    "#7\n",
    "\n",
    "class Address:\n",
    "    def __init__(self, street, city, zip_code):\n",
    "        self.street = street\n",
    "        self.city = city\n",
    "        self.zip_code = zip_code\n",
    "\n",
    "class Person(Address):\n",
    "    def __init__(self, name, age, street, city, zip_code):\n",
    "        super().__init__(street, city, zip_code)\n",
    "        self.name = name\n",
    "        self.age = age\n",
    "\n",
    "person = Person(\"Abhay\", 22, \"123 Main St\", \"Anytown\", \"12345\")\n",
    "print(person.name)\n",
    "print(person.age)\n",
    "print(person.street)\n",
    "print(person.city)\n",
    "print(person.zip_code)"
   ]
  },
  {
   "cell_type": "code",
   "execution_count": 14,
   "id": "154a0ce6",
   "metadata": {},
   "outputs": [
    {
     "name": "stdout",
     "output_type": "stream",
     "text": [
      "2\n"
     ]
    }
   ],
   "source": [
    "#8\n",
    "\n",
    "class Counter:\n",
    "    def __init__(self):\n",
    "        self.count = 0\n",
    "\n",
    "    def increment(self):\n",
    "        self.count += 1\n",
    "\n",
    "    def get_count(self):\n",
    "        return self.count\n",
    "\n",
    "counter = Counter()\n",
    "counter.increment()\n",
    "counter.increment()\n",
    "print(counter.get_count())"
   ]
  },
  {
   "cell_type": "code",
   "execution_count": 15,
   "id": "64ca8a69",
   "metadata": {},
   "outputs": [
    {
     "name": "stdout",
     "output_type": "stream",
     "text": [
      "4.0\n"
     ]
    }
   ],
   "source": [
    "#9\n",
    "\n",
    "import math\n",
    "\n",
    "class MathOperations:\n",
    "    @staticmethod\n",
    "    def sqrt(x):\n",
    "        return math.sqrt(x)\n",
    "    \n",
    "print(MathOperations.sqrt(16))"
   ]
  },
  {
   "cell_type": "code",
   "execution_count": null,
   "id": "22f043e8",
   "metadata": {},
   "outputs": [
    {
     "name": "stdout",
     "output_type": "stream",
     "text": [
      "5\n",
      "10\n",
      "50\n",
      "10\n",
      "20\n",
      "200\n"
     ]
    }
   ],
   "source": [
    "#10\n",
    "\n",
    "class Rectangle:\n",
    "    def __init__(self, width, length):\n",
    "        self.__width = width\n",
    "        self.__length = length\n",
    "\n",
    "    @property\n",
    "    def length(self):\n",
    "        return self.__length\n",
    "    \n",
    "    @length.setter\n",
    "    def length(self, length):\n",
    "        self.__length = length\n",
    "\n",
    "    @property\n",
    "    def width(self):\n",
    "        return self.__width\n",
    "\n",
    "    @width.setter\n",
    "    def width(self, width):\n",
    "        self.__width = width\n",
    "\n",
    "    def area(self):\n",
    "        return self.__width * self.__length\n",
    "    \n",
    "rect = Rectangle(5, 10)\n",
    "print(rect.width)\n",
    "print(rect.length)\n",
    "print(rect.area())\n",
    "\n",
    "rect.width = 10\n",
    "rect.length = 20\n",
    "print(rect.width)\n",
    "print(rect.length)\n",
    "print(rect.area())"
   ]
  },
  {
   "cell_type": "code",
   "execution_count": null,
   "id": "435d064d",
   "metadata": {},
   "outputs": [
    {
     "name": "stdout",
     "output_type": "stream",
     "text": [
      "78.5\n"
     ]
    }
   ],
   "source": [
    "#11\n",
    "\n",
    "from abc import ABC, abstractmethod\n",
    "\n",
    "class Shape(ABC):\n",
    "    @abstractmethod\n",
    "    def area(self):\n",
    "        pass\n",
    "\n",
    "class Circle(Shape):\n",
    "    def __init__(self, radius):\n",
    "        self.radius = radius\n",
    "\n",
    "    def area(self):\n",
    "        return 3.14 * self.radius * self.radius\n",
    "\n",
    "class square(Shape):\n",
    "    def __init__(self, side):\n",
    "        self.side = side\n",
    "\n",
    "    def area(self):\n",
    "        return self.side * self.side\n",
    "\n",
    "c = Circle(5)\n",
    "s = square(10)\n",
    "print(c.area())\n",
    "print(s.area())\n"
   ]
  },
  {
   "cell_type": "code",
   "execution_count": 27,
   "id": "ed553a2c",
   "metadata": {},
   "outputs": [
    {
     "name": "stdout",
     "output_type": "stream",
     "text": [
      "(4, 6)\n"
     ]
    }
   ],
   "source": [
    "#12\n",
    "\n",
    "class Vector:\n",
    "    def __init__(self, x, y):\n",
    "        self.x = x\n",
    "        self.y = y\n",
    "    \n",
    "    def __add__(self, other):\n",
    "        return Vector(self.x + other.x, self.y + other.y)\n",
    "    \n",
    "    def __str__(self):\n",
    "        return f\"({self.x}, {self.y})\"\n",
    "    \n",
    "v1 = Vector(1, 2)\n",
    "v2 = Vector(3, 4)\n",
    "v3 = v1 + v2\n",
    "print(v3)"
   ]
  },
  {
   "cell_type": "code",
   "execution_count": 30,
   "id": "b7782d59",
   "metadata": {},
   "outputs": [
    {
     "name": "stdout",
     "output_type": "stream",
     "text": [
      "500\n",
      "Insufficient balance\n"
     ]
    }
   ],
   "source": [
    "#13\n",
    "\n",
    "class InsufficientBalanceError(Exception):\n",
    "    pass\n",
    "\n",
    "class BankAccount:\n",
    "    def __init__(self, balance):\n",
    "        self.balance = balance\n",
    "    \n",
    "    def withdraw(self, amount):\n",
    "        if amount > self.balance:\n",
    "            raise InsufficientBalanceError(\"Insufficient balance\")\n",
    "        else:\n",
    "            self.balance -= amount\n",
    "\n",
    "    def check_balance(self):\n",
    "        return self.balance\n",
    "    \n",
    "account = BankAccount(1000)\n",
    "account.withdraw(500)\n",
    "print(account.check_balance())\n",
    "try:\n",
    "    account.withdraw(1500)\n",
    "except InsufficientBalanceError as e:\n",
    "    print(e)"
   ]
  },
  {
   "cell_type": "code",
   "execution_count": 31,
   "id": "a127b4aa",
   "metadata": {},
   "outputs": [
    {
     "name": "stdout",
     "output_type": "stream",
     "text": [
      "this is text file\n",
      "using for test\n"
     ]
    }
   ],
   "source": [
    "#14\n",
    "\n",
    "class FileManager:\n",
    "    def __init__(self, filename, mode):\n",
    "        self.filename = filename\n",
    "        self.mode = mode\n",
    "\n",
    "    def __enter__(self):\n",
    "        self.file = open(self.filename, \"r\")\n",
    "        return self.file\n",
    "\n",
    "    def __exit__(self, exc_type, exc_value, traceback):\n",
    "        self.file.close()\n",
    "\n",
    "with FileManager(\"file.txt\", \"r\") as file:\n",
    "    print(file.read())"
   ]
  },
  {
   "cell_type": "code",
   "execution_count": 32,
   "id": "f8d57ad6",
   "metadata": {},
   "outputs": [
    {
     "name": "stdout",
     "output_type": "stream",
     "text": [
      "7.5\n"
     ]
    }
   ],
   "source": [
    "class Calculator:\n",
    "    def __init__(self, result=0):\n",
    "        self.result = result\n",
    "\n",
    "    def add(self, num):\n",
    "        self.result += num\n",
    "        return self\n",
    "\n",
    "    def subtract(self, num):\n",
    "        self.result -= num\n",
    "        return self\n",
    "\n",
    "    def multiply(self, num):\n",
    "        self.result *= num\n",
    "        return self\n",
    "\n",
    "    def divide(self, num):\n",
    "        if num == 0:\n",
    "            print(\"Cannot divide by zero\")\n",
    "        else:\n",
    "            self.result /= num\n",
    "        return self\n",
    "    \n",
    "cal = Calculator()\n",
    "cal.add(10).subtract(5).multiply(3).divide(2)\n",
    "print(cal.result)"
   ]
  }
 ],
 "metadata": {
  "kernelspec": {
   "display_name": "base",
   "language": "python",
   "name": "python3"
  },
  "language_info": {
   "codemirror_mode": {
    "name": "ipython",
    "version": 3
   },
   "file_extension": ".py",
   "mimetype": "text/x-python",
   "name": "python",
   "nbconvert_exporter": "python",
   "pygments_lexer": "ipython3",
   "version": "3.12.7"
  }
 },
 "nbformat": 4,
 "nbformat_minor": 5
}

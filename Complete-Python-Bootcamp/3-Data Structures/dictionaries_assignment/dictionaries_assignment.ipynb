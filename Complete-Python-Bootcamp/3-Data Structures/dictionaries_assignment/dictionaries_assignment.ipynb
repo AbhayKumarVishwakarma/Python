{
 "cells": [
  {
   "cell_type": "markdown",
   "metadata": {},
   "source": [
    "# Module 3: Data Structures Assignments\n",
    "## Lesson 3.4: Dictionaries\n",
    "### Assignment 1: Creating and Accessing Dictionaries\n",
    "\n",
    "Create a dictionary with the first 10 positive integers as keys and their squares as values. Print the dictionary.\n",
    "\n",
    "### Assignment 2: Accessing Dictionary Elements\n",
    "\n",
    "Print the value of the key 5 and the keys of the dictionary created in Assignment 1.\n",
    "\n",
    "### Assignment 3: Dictionary Methods\n",
    "\n",
    "Add a new key-value pair (11, 121) to the dictionary created in Assignment 1 and then remove the key-value pair with key 1. Print the modified dictionary.\n",
    "\n",
    "### Assignment 4: Iterating Over Dictionaries\n",
    "\n",
    "Iterate over the dictionary created in Assignment 1 and print each key-value pair.\n",
    "\n",
    "### Assignment 5: Dictionary Comprehensions\n",
    "\n",
    "Create a new dictionary containing the cubes of the first 10 positive integers using a dictionary comprehension. Print the new dictionary.\n",
    "\n",
    "### Assignment 6: Merging Dictionaries\n",
    "\n",
    "Create two dictionaries: one with keys as the first 5 positive integers and values as their squares, and another with keys as the next 5 positive integers and values as their squares. Merge these dictionaries into a single dictionary and print it.\n",
    "\n",
    "### Assignment 7: Nested Dictionaries\n",
    "\n",
    "Create a nested dictionary representing a student with keys 'name', 'age', 'grades', where 'grades' is another dictionary with keys 'math', 'science', and 'english'. Print the nested dictionary.\n",
    "\n",
    "### Assignment 8: Dictionary of Lists\n",
    "\n",
    "Create a dictionary where the keys are the first 5 positive integers and the values are lists containing the first 5 multiples of the key. Print the dictionary.\n",
    "\n",
    "### Assignment 9: Dictionary of Tuples\n",
    "\n",
    "Create a dictionary where the keys are the first 5 positive integers and the values are tuples containing the key and its square. Print the dictionary.\n",
    "\n",
    "### Assignment 10: Dictionary and List Conversion\n",
    "\n",
    "Create a dictionary with the first 5 positive integers as keys and their squares as values. Convert the dictionary to a list of tuples and print it.\n",
    "\n",
    "### Assignment 11: Dictionary Filtering\n",
    "\n",
    "Create a dictionary with the first 10 positive integers as keys and their squares as values. Create a new dictionary containing only the key-value pairs where the key is even. Print the new dictionary.\n",
    "\n",
    "### Assignment 12: Dictionary Key and Value Transformation\n",
    "\n",
    "Create a dictionary with the first 5 positive integers as keys and their squares as values. Create a new dictionary with keys and values swapped. Print the new dictionary.\n",
    "\n",
    "### Assignment 13: Default Dictionary\n",
    "\n",
    "Create a default dictionary where each key has a default value of an empty list. Add some elements to the lists and print the dictionary.\n",
    "\n",
    "### Assignment 14: Counting with Dictionaries\n",
    "\n",
    "Write a function that takes a string and returns a dictionary with the count of each character in the string. Print the dictionary.\n",
    "\n",
    "### Assignment 15: Dictionary and JSON\n",
    "\n",
    "Create a dictionary representing a book with keys 'title', 'author', 'year', and 'genre'. Convert the dictionary to a JSON string and print it."
   ]
  },
  {
   "cell_type": "code",
   "execution_count": 2,
   "metadata": {},
   "outputs": [
    {
     "name": "stdout",
     "output_type": "stream",
     "text": [
      "{1: 1, 2: 4, 3: 9, 4: 16, 5: 25, 6: 36, 7: 49, 8: 64, 9: 81, 10: 100}\n"
     ]
    }
   ],
   "source": [
    "dit = {x: x**2 for x in range(1, 11)}\n",
    "print(dit)"
   ]
  },
  {
   "cell_type": "code",
   "execution_count": 6,
   "id": "9cd6c4b4",
   "metadata": {},
   "outputs": [
    {
     "name": "stdout",
     "output_type": "stream",
     "text": [
      "25\n",
      "1: 1\n",
      "2: 4\n",
      "3: 9\n",
      "4: 16\n",
      "5: 25\n",
      "6: 36\n",
      "7: 49\n",
      "8: 64\n",
      "9: 81\n",
      "10: 100\n"
     ]
    }
   ],
   "source": [
    "print(dit[5])\n",
    "\n",
    "for key in dit:\n",
    "    print(f'{key}: {dit[key]}')"
   ]
  },
  {
   "cell_type": "code",
   "execution_count": 7,
   "id": "c4c9617d",
   "metadata": {},
   "outputs": [
    {
     "name": "stdout",
     "output_type": "stream",
     "text": [
      "{1: 1, 2: 4, 3: 9, 4: 16, 5: 25, 6: 36, 7: 49, 8: 64, 9: 81, 10: 100, 11: 121}\n",
      "{2: 4, 3: 9, 4: 16, 5: 25, 6: 36, 7: 49, 8: 64, 9: 81, 10: 100, 11: 121}\n"
     ]
    }
   ],
   "source": [
    "dit[11] = 121\n",
    "print(dit)\n",
    "\n",
    "del dit[1]\n",
    "print(dit)"
   ]
  },
  {
   "cell_type": "code",
   "execution_count": 8,
   "id": "21ebad90",
   "metadata": {},
   "outputs": [
    {
     "name": "stdout",
     "output_type": "stream",
     "text": [
      "2: 4\n",
      "3: 9\n",
      "4: 16\n",
      "5: 25\n",
      "6: 36\n",
      "7: 49\n",
      "8: 64\n",
      "9: 81\n",
      "10: 100\n",
      "11: 121\n"
     ]
    }
   ],
   "source": [
    "for key, value in dit.items():\n",
    "    print(f'{key}: {value}')"
   ]
  },
  {
   "cell_type": "code",
   "execution_count": 9,
   "id": "2cc404eb",
   "metadata": {},
   "outputs": [
    {
     "name": "stdout",
     "output_type": "stream",
     "text": [
      "{1: 1, 2: 8, 3: 27, 4: 64, 5: 125, 6: 216, 7: 343, 8: 512, 9: 729, 10: 1000}\n"
     ]
    }
   ],
   "source": [
    "new_dit = {x:x**3 for x in range(1, 11)}\n",
    "print(new_dit)"
   ]
  },
  {
   "cell_type": "code",
   "execution_count": 10,
   "id": "de2273d9",
   "metadata": {},
   "outputs": [
    {
     "name": "stdout",
     "output_type": "stream",
     "text": [
      "{1: 1, 2: 4, 3: 9, 4: 16, 5: 25, 6: 36, 7: 49, 8: 64, 9: 81, 10: 100}\n"
     ]
    }
   ],
   "source": [
    "dit1 = {1: 1, 2: 4, 3: 9, 4: 16, 5: 25}\n",
    "dit2 = {6: 36, 7: 49, 8: 64, 9: 81, 10: 100}\n",
    "\n",
    "dit = {**dit1, **dit2}\n",
    "print(dit)"
   ]
  },
  {
   "cell_type": "code",
   "execution_count": 11,
   "id": "a6c33810",
   "metadata": {},
   "outputs": [
    {
     "name": "stdout",
     "output_type": "stream",
     "text": [
      "Name: John Doe\n",
      "Age: 20\n",
      "Math Grade: 85\n",
      "Science Grade: 92\n",
      "History Grade: 78\n"
     ]
    }
   ],
   "source": [
    "student_dit = {\n",
    "    'name': 'John Doe',\n",
    "    'age': 20,\n",
    "    'grades': {\n",
    "        'math': 85,\n",
    "        'science': 92,\n",
    "        'history': 78\n",
    "    }\n",
    "}\n",
    "\n",
    "print(f'Name: {student_dit[\"name\"]}')\n",
    "print(f'Age: {student_dit[\"age\"]}')\n",
    "print(f'Math Grade: {student_dit[\"grades\"][\"math\"]}')\n",
    "print(f'Science Grade: {student_dit[\"grades\"][\"science\"]}')\n",
    "print(f'History Grade: {student_dit[\"grades\"][\"history\"]}')"
   ]
  },
  {
   "cell_type": "code",
   "execution_count": 13,
   "id": "863c3424",
   "metadata": {},
   "outputs": [
    {
     "name": "stdout",
     "output_type": "stream",
     "text": [
      "{1: [1, 2, 3, 4, 5], 2: [2, 4, 6, 8, 10], 3: [3, 6, 9, 12, 15], 4: [4, 8, 12, 16, 20], 5: [5, 10, 15, 20, 25], 6: [6, 12, 18, 24, 30], 7: [7, 14, 21, 28, 35], 8: [8, 16, 24, 32, 40], 9: [9, 18, 27, 36, 45], 10: [10, 20, 30, 40, 50]}\n"
     ]
    }
   ],
   "source": [
    "#8\n",
    "\n",
    "dit = {x: [i*x for i in range(1, 6)] for x in range(1, 11)}\n",
    "print(dit)"
   ]
  },
  {
   "cell_type": "code",
   "execution_count": 14,
   "id": "0102c25d",
   "metadata": {},
   "outputs": [
    {
     "name": "stdout",
     "output_type": "stream",
     "text": [
      "{1: (1, 1), 2: (2, 4), 3: (3, 9), 4: (4, 16), 5: (5, 25)}\n"
     ]
    }
   ],
   "source": [
    "#9\n",
    "\n",
    "tu_dit = {i: (i, i**2) for i in range(1, 6)}\n",
    "print(tu_dit)"
   ]
  },
  {
   "cell_type": "code",
   "execution_count": 17,
   "id": "9d76c764",
   "metadata": {},
   "outputs": [
    {
     "name": "stdout",
     "output_type": "stream",
     "text": [
      "{1: 1, 2: 4, 3: 9, 4: 16, 5: 25}\n",
      "[(1, 1), (2, 4), (3, 9), (4, 16), (5, 25)]\n"
     ]
    }
   ],
   "source": [
    "dit = {x: x**2 for x in range(1, 6)}\n",
    "print(dit)\n",
    "\n",
    "list_tu = list(dit.items())\n",
    "print(list_tu)\n"
   ]
  },
  {
   "cell_type": "code",
   "execution_count": 18,
   "id": "03f1d7eb",
   "metadata": {},
   "outputs": [
    {
     "name": "stdout",
     "output_type": "stream",
     "text": [
      "{1: 1, 2: 4, 3: 9, 4: 16, 5: 25, 6: 36, 7: 49, 8: 64, 9: 81, 10: 100}\n",
      "{2: 4, 4: 16, 6: 36, 8: 64, 10: 100}\n"
     ]
    }
   ],
   "source": [
    "#11\n",
    "\n",
    "dit = {x: x**2 for x in range(1, 11)}\n",
    "print(dit)\n",
    "\n",
    "even_dit = {key: value for key, value in dit.items() if key % 2 == 0}\n",
    "print(even_dit)"
   ]
  },
  {
   "cell_type": "code",
   "execution_count": 20,
   "id": "9afc5177",
   "metadata": {},
   "outputs": [
    {
     "name": "stdout",
     "output_type": "stream",
     "text": [
      "{1: 1, 2: 4, 3: 9, 4: 16, 5: 25}\n",
      "{1: 1, 4: 2, 9: 3, 16: 4, 25: 5}\n"
     ]
    }
   ],
   "source": [
    "#12\n",
    "\n",
    "dit = {x: x**2 for x in range(1, 6)}\n",
    "print(dit)\n",
    "\n",
    "swapped_dit = {value:key for key, value in dit.items()}\n",
    "print(swapped_dit)"
   ]
  },
  {
   "cell_type": "code",
   "execution_count": 22,
   "id": "fe558e49",
   "metadata": {},
   "outputs": [
    {
     "name": "stdout",
     "output_type": "stream",
     "text": [
      "defaultdict(<class 'list'>, {'a': [1, 2], 'b': [3]})\n"
     ]
    }
   ],
   "source": [
    "#13\n",
    "\n",
    "from collections import defaultdict\n",
    "\n",
    "default_dict = defaultdict(list)\n",
    "default_dict['a'].append(1)\n",
    "default_dict['a'].append(2)\n",
    "default_dict['b'].append(3)\n",
    "print(default_dict)"
   ]
  },
  {
   "cell_type": "code",
   "execution_count": 23,
   "id": "4e3f823c",
   "metadata": {},
   "outputs": [
    {
     "name": "stdout",
     "output_type": "stream",
     "text": [
      "{'a': 1, 'p': 2, 'l': 1, 'e': 1}\n"
     ]
    }
   ],
   "source": [
    "def return_dist(st):\n",
    "    dit = {}\n",
    "    for i in st:\n",
    "        if i in dit:\n",
    "            dit[i] += 1\n",
    "        else:\n",
    "            dit[i] = 1\n",
    "    return dit\n",
    "\n",
    "\n",
    "print(return_dist('apple'))"
   ]
  },
  {
   "cell_type": "code",
   "execution_count": 25,
   "id": "72d8217e",
   "metadata": {},
   "outputs": [
    {
     "name": "stdout",
     "output_type": "stream",
     "text": [
      "{\"title\": \"Python Masterclass\", \"author\": \"Tim Buchalka\", \"price\": 49.99, \"is_published\": true, \"num_pages\": 300}\n"
     ]
    }
   ],
   "source": [
    "import json\n",
    "\n",
    "dit = {\n",
    "    'title': 'Python Masterclass',\n",
    "    'author': 'Tim Buchalka',\n",
    "    'price': 49.99,\n",
    "    'is_published': True,\n",
    "    'num_pages': 300\n",
    "}\n",
    "\n",
    "book_json = json.dumps(dit)\n",
    "print(book_json)"
   ]
  }
 ],
 "metadata": {
  "kernelspec": {
   "display_name": "base",
   "language": "python",
   "name": "python3"
  },
  "language_info": {
   "codemirror_mode": {
    "name": "ipython",
    "version": 3
   },
   "file_extension": ".py",
   "mimetype": "text/x-python",
   "name": "python",
   "nbconvert_exporter": "python",
   "pygments_lexer": "ipython3",
   "version": "3.12.7"
  }
 },
 "nbformat": 4,
 "nbformat_minor": 5
}

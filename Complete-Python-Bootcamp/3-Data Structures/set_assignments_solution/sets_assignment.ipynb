{
 "cells": [
  {
   "cell_type": "markdown",
   "metadata": {},
   "source": [
    "# Module 3: Data Structures Assignments\n",
    "## Lesson 3.3: Sets\n",
    "### Assignment 1: Creating and Accessing Sets\n",
    "\n",
    "Create a set with the first 10 positive integers. Print the set.\n",
    "\n",
    "### Assignment 2: Adding and Removing Elements\n",
    "\n",
    "Add the number 11 to the set created in Assignment 1. Then remove the number 1 from the set. Print the modified set.\n",
    "\n",
    "### Assignment 3: Set Operations\n",
    "\n",
    "Create two sets: one with the first 5 positive integers and another with the first 5 even integers. Perform and print the results of union, intersection, difference, and symmetric difference operations on these sets.\n",
    "\n",
    "### Assignment 4: Set Comprehensions\n",
    "\n",
    "Create a new set containing the squares of the first 10 positive integers using a set comprehension. Print the new set.\n",
    "\n",
    "### Assignment 5: Filtering Sets\n",
    "\n",
    "Create a new set containing only the even numbers from the set created in Assignment 1 using a set comprehension. Print the new set.\n",
    "\n",
    "### Assignment 6: Set Methods\n",
    "\n",
    "Create a set with duplicate elements and remove the duplicates using set methods. Print the modified set.\n",
    "\n",
    "### Assignment 7: Subsets and Supersets\n",
    "\n",
    "Create two sets: one with the first 5 positive integers and another with the first 3 positive integers. Check if the second set is a subset of the first set and if the first set is a superset of the second set. Print the results.\n",
    "\n",
    "### Assignment 8: Frozenset\n",
    "\n",
    "Create a frozenset with the first 5 positive integers. Print the frozenset.\n",
    "\n",
    "### Assignment 9: Set and List Conversion\n",
    "\n",
    "Create a set with the first 5 positive integers. Convert it to a list, append the number 6, and convert it back to a set. Print the resulting set.\n",
    "\n",
    "### Assignment 10: Set and Dictionary\n",
    "\n",
    "Create a dictionary with set keys and integer values. Print the dictionary.\n",
    "\n",
    "### Assignment 11: Iterating Over Sets\n",
    "\n",
    "Create a set and iterate over the elements, printing each element.\n",
    "\n",
    "### Assignment 12: Removing Elements from Sets\n",
    "\n",
    "Create a set and remove elements from it until it is empty. Print the set after each removal.\n",
    "\n",
    "### Assignment 13: Set Symmetric Difference Update\n",
    "\n",
    "Create two sets and update the first set with the symmetric difference of the two sets. Print the modified first set.\n",
    "\n",
    "### Assignment 14: Set Membership Testing\n",
    "\n",
    "Create a set and test if certain elements are present in the set. Print the results.\n",
    "\n",
    "### Assignment 15: Set of Tuples\n",
    "\n",
    "Create a set containing tuples, where each tuple contains two elements. Print the set."
   ]
  },
  {
   "cell_type": "code",
   "execution_count": 1,
   "metadata": {},
   "outputs": [
    {
     "name": "stdout",
     "output_type": "stream",
     "text": [
      "{1, 2, 3, 4, 5, 6, 7, 8, 9, 10}\n"
     ]
    }
   ],
   "source": [
    "#1\n",
    "\n",
    "st = {1, 2, 3, 4, 5, 6, 7, 8, 9, 10}\n",
    "print(st)"
   ]
  },
  {
   "cell_type": "code",
   "execution_count": 2,
   "id": "e8aa4300",
   "metadata": {},
   "outputs": [
    {
     "name": "stdout",
     "output_type": "stream",
     "text": [
      "{1, 2, 3, 4, 5, 6, 7, 8, 9, 10, 11}\n",
      "{2, 3, 4, 5, 6, 7, 8, 9, 10, 11}\n"
     ]
    }
   ],
   "source": [
    "#2\n",
    "\n",
    "st.add(11)\n",
    "print(st)\n",
    "\n",
    "st.remove(1)\n",
    "print(st)"
   ]
  },
  {
   "cell_type": "code",
   "execution_count": null,
   "id": "39c966fd",
   "metadata": {},
   "outputs": [
    {
     "name": "stdout",
     "output_type": "stream",
     "text": [
      "{1, 2, 3, 4, 5, 6, 8, 10}\n",
      "{1, 2, 3, 4, 5, 6, 8, 10}\n",
      "{2, 4}\n",
      "{2, 4}\n",
      "{1, 3, 5}\n",
      "{1, 3, 5}\n",
      "{8, 10, 6}\n",
      "{8, 10, 6}\n",
      "{1, 3, 5, 6, 8, 10}\n"
     ]
    }
   ],
   "source": [
    "#3\n",
    "\n",
    "st1 = {1, 2, 3, 4, 5}\n",
    "st2 = {2, 4, 6, 8, 10}\n",
    "\n",
    "print(st1.union(st2))\n",
    "print(st1 | st2)\n",
    "\n",
    "print(st1.intersection(st2))\n",
    "print(st1 & st2)\n",
    "\n",
    "print(st1.difference(st2))\n",
    "print(st1 - st2)\n",
    "\n",
    "print(st2.difference(st1))\n",
    "print(st2 - st1)\n",
    "\n",
    "# Symmetric difference\n",
    "print(st1 ^ st2)"
   ]
  },
  {
   "cell_type": "code",
   "execution_count": null,
   "id": "ef94586e",
   "metadata": {},
   "outputs": [
    {
     "name": "stdout",
     "output_type": "stream",
     "text": [
      "{64, 1, 4, 36, 100, 9, 16, 49, 81, 25}\n"
     ]
    }
   ],
   "source": [
    "#4\n",
    "\n",
    "sq_st = {i**2 for i in range(1, 11)}\n",
    "print(sq_st)\n"
   ]
  },
  {
   "cell_type": "code",
   "execution_count": 8,
   "id": "fd720da6",
   "metadata": {},
   "outputs": [
    {
     "name": "stdout",
     "output_type": "stream",
     "text": [
      "{2, 4, 6, 8, 10}\n"
     ]
    }
   ],
   "source": [
    "#5\n",
    "\n",
    "fil_st = {i for i in st if i % 2 == 0}\n",
    "print(fil_st)"
   ]
  },
  {
   "cell_type": "code",
   "execution_count": 12,
   "id": "237f9c47",
   "metadata": {},
   "outputs": [
    {
     "name": "stdout",
     "output_type": "stream",
     "text": [
      "{1, 2, 3, 4, 5}\n"
     ]
    }
   ],
   "source": [
    "#6\n",
    "\n",
    "dup_st = {1, 2, 3, 4, 5, 3, 4, 5}\n",
    "unique_st = set(dup_st)\n",
    "print(unique_st)"
   ]
  },
  {
   "cell_type": "code",
   "execution_count": null,
   "id": "475c2023",
   "metadata": {},
   "outputs": [
    {
     "name": "stdout",
     "output_type": "stream",
     "text": [
      "True\n",
      "True\n"
     ]
    }
   ],
   "source": [
    "#7\n",
    "\n",
    "st1 = {1, 2, 3, 4, 5}\n",
    "st2 = {1, 2, 3}\n",
    "\n",
    "print(st2.issubset(st1))\n",
    "\n",
    "print(st1.issuperset(st2))"
   ]
  },
  {
   "cell_type": "code",
   "execution_count": 14,
   "id": "10ecefe1",
   "metadata": {},
   "outputs": [
    {
     "name": "stdout",
     "output_type": "stream",
     "text": [
      "frozenset({1, 2, 3, 4, 5, 6, 7, 8, 9, 10})\n"
     ]
    }
   ],
   "source": [
    "#8\n",
    "\n",
    "fz_st = frozenset(range(1, 11))\n",
    "print(fz_st)"
   ]
  },
  {
   "cell_type": "code",
   "execution_count": 15,
   "id": "dbff8616",
   "metadata": {},
   "outputs": [
    {
     "name": "stdout",
     "output_type": "stream",
     "text": [
      "{1, 2, 3, 4, 5, 6}\n"
     ]
    }
   ],
   "source": [
    "#9\n",
    "\n",
    "st = {1, 2, 3, 4, 5}\n",
    "lst = list(st)\n",
    "lst.append(6)\n",
    "st = set(lst)\n",
    "print(st)"
   ]
  },
  {
   "cell_type": "code",
   "execution_count": 18,
   "id": "9b59a795",
   "metadata": {},
   "outputs": [
    {
     "name": "stdout",
     "output_type": "stream",
     "text": [
      "{'a': {1, 2, 3}, 'b': {4, 5, 6}, 'c': {8, 9, 7}}\n",
      "{frozenset({1, 2, 3}): 'a', frozenset({4, 5, 6}): 'b', frozenset({8, 9, 7}): 'c'}\n"
     ]
    }
   ],
   "source": [
    "#10\n",
    "\n",
    "dist_st = {\n",
    "    'a': {1, 2, 3},\n",
    "    'b': {4, 5, 6},\n",
    "    'c': {7, 8, 9}\n",
    "}\n",
    "print(dist_st)\n",
    "\n",
    "dist_fz_st = {\n",
    "    frozenset({1, 2, 3}): 'a',\n",
    "    frozenset({4, 5, 6}): 'b',\n",
    "    frozenset({7, 8, 9}): 'c'\n",
    "}\n",
    "print(dist_fz_st)"
   ]
  },
  {
   "cell_type": "code",
   "execution_count": 21,
   "id": "e005b06f",
   "metadata": {},
   "outputs": [
    {
     "name": "stdout",
     "output_type": "stream",
     "text": [
      "1\n",
      "2\n",
      "3\n",
      "4\n",
      "5\n",
      "6\n",
      "7\n",
      "8\n",
      "9\n",
      "10\n"
     ]
    }
   ],
   "source": [
    "#11\n",
    "\n",
    "st = set(range(1, 11))\n",
    "\n",
    "for i in st:\n",
    "    print(i)"
   ]
  },
  {
   "cell_type": "code",
   "execution_count": null,
   "id": "ad7a0f8a",
   "metadata": {},
   "outputs": [
    {
     "name": "stdout",
     "output_type": "stream",
     "text": [
      "set()\n"
     ]
    }
   ],
   "source": [
    "#12\n",
    "\n",
    "print(st)\n",
    "\n",
    "while st:\n",
    "    st.pop()\n",
    "    print(st)"
   ]
  },
  {
   "cell_type": "code",
   "execution_count": 30,
   "id": "01758165",
   "metadata": {},
   "outputs": [
    {
     "name": "stdout",
     "output_type": "stream",
     "text": [
      "{1, 2, 3, 6, 7, 8}\n"
     ]
    }
   ],
   "source": [
    "#13\n",
    "\n",
    "st1 = {1, 2, 3, 4, 5}\n",
    "st2 = {4, 5, 6, 7, 8}\n",
    "\n",
    "st1.symmetric_difference_update(st2)\n",
    "print(st1)"
   ]
  },
  {
   "cell_type": "code",
   "execution_count": 31,
   "id": "757a8fd3",
   "metadata": {},
   "outputs": [
    {
     "name": "stdout",
     "output_type": "stream",
     "text": [
      "True\n",
      "False\n"
     ]
    }
   ],
   "source": [
    "#14\n",
    "\n",
    "s = set(range(1, 6))\n",
    "print(3 in s)\n",
    "print(6 in s)"
   ]
  },
  {
   "cell_type": "code",
   "execution_count": 29,
   "id": "5d9b1b4e",
   "metadata": {},
   "outputs": [
    {
     "name": "stdout",
     "output_type": "stream",
     "text": [
      "{(7, 49), (2, 4), (4, 16), (1, 1), (8, 64), (6, 36), (10, 100), (3, 9), (5, 25), (9, 81)}\n"
     ]
    }
   ],
   "source": [
    "#15\n",
    "\n",
    "tu_st = {(i, i**2) for i in range(1, 11)}\n",
    "print(tu_st)"
   ]
  }
 ],
 "metadata": {
  "kernelspec": {
   "display_name": "base",
   "language": "python",
   "name": "python3"
  },
  "language_info": {
   "codemirror_mode": {
    "name": "ipython",
    "version": 3
   },
   "file_extension": ".py",
   "mimetype": "text/x-python",
   "name": "python",
   "nbconvert_exporter": "python",
   "pygments_lexer": "ipython3",
   "version": "3.12.7"
  }
 },
 "nbformat": 4,
 "nbformat_minor": 5
}

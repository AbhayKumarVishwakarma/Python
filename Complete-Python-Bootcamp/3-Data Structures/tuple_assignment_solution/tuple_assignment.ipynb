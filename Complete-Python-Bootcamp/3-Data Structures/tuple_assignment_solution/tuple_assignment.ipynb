{
 "cells": [
  {
   "cell_type": "markdown",
   "id": "6cade624",
   "metadata": {},
   "source": [
    "# Module 3: Data Structures Assignments\n",
    "## Lesson 3.2: Tuples\n",
    "### Assignment 1: Creating and Accessing Tuples\n",
    "\n",
    "Create a tuple with the first 10 positive integers. Print the tuple.\n",
    "\n",
    "### Assignment 2: Accessing Tuple Elements\n",
    "\n",
    "Print the first, middle, and last elements of the tuple created in Assignment 1.\n",
    "\n",
    "### Assignment 3: Tuple Slicing\n",
    "\n",
    "Print the first three elements, the last three elements, and the elements from index 2 to 5 of the tuple created in Assignment 1.\n",
    "\n",
    "### Assignment 4: Nested Tuples\n",
    "\n",
    "Create a nested tuple representing a 3x3 matrix and print the matrix. Access and print the element at the second row and third column.\n",
    "\n",
    "### Assignment 5: Tuple Concatenation\n",
    "\n",
    "Concatenate two tuples: (1, 2, 3) and (4, 5, 6). Print the resulting tuple.\n",
    "\n",
    "### Assignment 6: Tuple Methods\n",
    "\n",
    "Create a tuple with duplicate elements and count the occurrences of an element. Find the index of the first occurrence of an element in the tuple.\n",
    "\n",
    "### Assignment 7: Unpacking Tuples\n",
    "\n",
    "Create a tuple with 5 elements and unpack it into 5 variables. Print the variables.\n",
    "\n",
    "### Assignment 8: Tuple Conversion\n",
    "\n",
    "Convert a list of the first 5 positive integers to a tuple. Print the tuple.\n",
    "\n",
    "### Assignment 9: Tuple of Tuples\n",
    "\n",
    "Create a tuple containing 3 tuples, each with 3 elements. Print the tuple of tuples.\n",
    "\n",
    "### Assignment 10: Tuple and List\n",
    "\n",
    "Create a tuple with the first 5 positive integers. Convert it to a list, append the number 6, and convert it back to a tuple. Print the resulting tuple.\n",
    "\n",
    "### Assignment 11: Tuple and String\n",
    "\n",
    "Create a tuple with the characters of a string. Join the tuple elements into a single string. Print the string.\n",
    "\n",
    "### Assignment 12: Tuple and Dictionary\n",
    "\n",
    "Create a dictionary with tuple keys and integer values. Print the dictionary.\n",
    "\n",
    "### Assignment 13: Nested Tuple Iteration\n",
    "\n",
    "Create a nested tuple and iterate over the elements, printing each element.\n",
    "\n",
    "### Assignment 14: Tuple and Set\n",
    "\n",
    "Create a tuple with duplicate elements. Convert it to a set to remove duplicates and print the resulting set.\n",
    "\n",
    "### Assignment 15: Tuple Functions\n",
    "\n",
    "Write functions that take a tuple and return the minimum, maximum, and sum of the elements. Print the results for a sample tuple."
   ]
  },
  {
   "cell_type": "code",
   "execution_count": 1,
   "metadata": {},
   "outputs": [
    {
     "name": "stdout",
     "output_type": "stream",
     "text": [
      "(1, 2, 3, 4, 5, 6, 7, 8, 9, 10)\n"
     ]
    }
   ],
   "source": [
    "#1\n",
    "\n",
    "tu = tuple(range(1,11))\n",
    "print(tu)"
   ]
  },
  {
   "cell_type": "code",
   "execution_count": 2,
   "id": "41223788",
   "metadata": {},
   "outputs": [
    {
     "name": "stdout",
     "output_type": "stream",
     "text": [
      "1\n",
      "6\n",
      "10\n"
     ]
    }
   ],
   "source": [
    "#2\n",
    "\n",
    "print(tu[0])\n",
    "print(tu[len(tu)//2])\n",
    "print(tu[-1])"
   ]
  },
  {
   "cell_type": "code",
   "execution_count": 6,
   "id": "41a4a93e",
   "metadata": {},
   "outputs": [
    {
     "name": "stdout",
     "output_type": "stream",
     "text": [
      "(1, 2, 3)\n",
      "(8, 9, 10)\n",
      "(3, 4, 5)\n"
     ]
    }
   ],
   "source": [
    "#3\n",
    "\n",
    "print(tu[:3])\n",
    "print(tu[-3:])\n",
    "print(tu[2:5])"
   ]
  },
  {
   "cell_type": "code",
   "execution_count": 8,
   "id": "6d79b5ab",
   "metadata": {},
   "outputs": [
    {
     "name": "stdout",
     "output_type": "stream",
     "text": [
      "(1, 2, 3)\n",
      "(4, 5, 6)\n",
      "(7, 8, 9)\n",
      "6\n"
     ]
    }
   ],
   "source": [
    "#4\n",
    "\n",
    "tu_mat = (\n",
    "    (1,2,3),\n",
    "    (4,5,6),\n",
    "    (7,8,9)\n",
    ")\n",
    "\n",
    "for row in tu_mat:\n",
    "    print(row)\n",
    "    \n",
    "print(tu_mat[1][2])"
   ]
  },
  {
   "cell_type": "code",
   "execution_count": 9,
   "id": "5aea2ea0",
   "metadata": {},
   "outputs": [
    {
     "name": "stdout",
     "output_type": "stream",
     "text": [
      "(1, 2, 3, 4, 5, 6)\n"
     ]
    }
   ],
   "source": [
    "#5\n",
    "\n",
    "tu1 = (1,2,3)\n",
    "tu2 = (4,5,6)\n",
    "\n",
    "tu3 = tu1 + tu2\n",
    "print(tu3)"
   ]
  },
  {
   "cell_type": "code",
   "execution_count": 12,
   "id": "9dc97dfc",
   "metadata": {},
   "outputs": [
    {
     "name": "stdout",
     "output_type": "stream",
     "text": [
      "2\n",
      "2\n",
      "1\n",
      "4\n"
     ]
    }
   ],
   "source": [
    "#6\n",
    "\n",
    "tu = (1, 2, 2, 3, 4, 4, 5)\n",
    "\n",
    "print(tu.count(2))\n",
    "print(tu.count(4))\n",
    "\n",
    "print(tu.index(2))\n",
    "print(tu.index(4))\n"
   ]
  },
  {
   "cell_type": "code",
   "execution_count": null,
   "id": "7b93b664",
   "metadata": {},
   "outputs": [
    {
     "name": "stdout",
     "output_type": "stream",
     "text": [
      "1\n",
      "2\n",
      "3\n",
      "4\n",
      "5\n"
     ]
    }
   ],
   "source": [
    "#7\n",
    "\n",
    "tu = (1, 2, 3, 4, 5)\n",
    "\n",
    "a, b, c, d, e = tu\n",
    "\n",
    "print(a)\n",
    "print(b)\n",
    "print(c)\n",
    "print(d)\n",
    "print(e)"
   ]
  },
  {
   "cell_type": "code",
   "execution_count": null,
   "id": "2636ff82",
   "metadata": {},
   "outputs": [
    {
     "name": "stdout",
     "output_type": "stream",
     "text": [
      "(1, 2, 3, 4, 5)\n"
     ]
    }
   ],
   "source": [
    "#8\n",
    "\n",
    "lst = [1, 2, 3, 4, 5]\n",
    "\n",
    "con_tu = tuple(lst)\n",
    "\n",
    "print(con_tu)"
   ]
  },
  {
   "cell_type": "code",
   "execution_count": 16,
   "id": "7b56d860",
   "metadata": {},
   "outputs": [
    {
     "name": "stdout",
     "output_type": "stream",
     "text": [
      "1 2 3 \n",
      "4 5 6 \n",
      "7 8 9 \n"
     ]
    }
   ],
   "source": [
    "#9\n",
    "\n",
    "tu_mat = (\n",
    "    (1,2,3),\n",
    "    (4,5,6),\n",
    "    (7,8,9)\n",
    ")\n",
    "\n",
    "for i in range(len(tu_mat)):\n",
    "    for j in range(len(tu_mat[i])):\n",
    "        print(tu_mat[i][j], end=\" \")\n",
    "    print()\n"
   ]
  },
  {
   "cell_type": "code",
   "execution_count": 20,
   "id": "45486296",
   "metadata": {},
   "outputs": [
    {
     "name": "stdout",
     "output_type": "stream",
     "text": [
      "(1, 2, 3, 4, 5)\n",
      "[1, 2, 3, 4, 5]\n",
      "[1, 2, 3, 4, 5, 6]\n",
      "(1, 2, 3, 4, 5, 6)\n"
     ]
    }
   ],
   "source": [
    "#10\n",
    "\n",
    "tu = (1, 2, 3, 4, 5)\n",
    "print(tu)\n",
    "\n",
    "con_list = list(tu)\n",
    "print(con_list)\n",
    "\n",
    "con_list.append(6)\n",
    "print(con_list)\n",
    "\n",
    "con_tu = tuple(con_list)\n",
    "print(con_tu)"
   ]
  },
  {
   "cell_type": "code",
   "execution_count": 24,
   "id": "b9f7caef",
   "metadata": {},
   "outputs": [
    {
     "name": "stdout",
     "output_type": "stream",
     "text": [
      "abhay\n"
     ]
    }
   ],
   "source": [
    "#11\n",
    "\n",
    "str_tu = ('a', 'b', 'h', 'a', 'y')\n",
    "\n",
    "single_str = ''.join(str_tu)\n",
    "print(single_str)"
   ]
  },
  {
   "cell_type": "code",
   "execution_count": 27,
   "id": "5b5346f7",
   "metadata": {},
   "outputs": [
    {
     "name": "stdout",
     "output_type": "stream",
     "text": [
      "{(1, 2, 3): 1, (4, 5, 6): 2, (7, 8, 9): 3}\n"
     ]
    }
   ],
   "source": [
    "#12\n",
    "\n",
    "dis_tu = {\n",
    "    (1,2,3): 1,\n",
    "    (4,5,6): 2,\n",
    "    (7,8,9): 3\n",
    "}\n",
    "\n",
    "print(dis_tu)"
   ]
  },
  {
   "cell_type": "code",
   "execution_count": 30,
   "id": "ff2d3edb",
   "metadata": {},
   "outputs": [
    {
     "name": "stdout",
     "output_type": "stream",
     "text": [
      "1 2 3 \n",
      "4 5 6 \n",
      "7 8 9 \n",
      "1 2 3 \n",
      "4 5 6 \n",
      "7 8 9 \n"
     ]
    }
   ],
   "source": [
    "#13\n",
    "\n",
    "nest_tu = (\n",
    "    (1, 2, 3),\n",
    "    (4, 5, 6),\n",
    "    (7, 8, 9)\n",
    ")\n",
    "\n",
    "for i in range(len(nest_tu)):\n",
    "    for j in range(len(nest_tu[i])):\n",
    "        print(nest_tu[i][j], end=' ')\n",
    "    print()\n",
    "\n",
    "for tpl in nest_tu:\n",
    "    for num in tpl:\n",
    "        print(num, end=' ')\n",
    "    print()"
   ]
  },
  {
   "cell_type": "code",
   "execution_count": 31,
   "id": "f39f0f5d",
   "metadata": {},
   "outputs": [
    {
     "name": "stdout",
     "output_type": "stream",
     "text": [
      "{1, 2, 3, 4, 5, 6}\n"
     ]
    }
   ],
   "source": [
    "dup_tu = (1, 2, 2, 3, 4, 5, 5, 6, 6)\n",
    "unique_set = set(dup_tu)\n",
    "print(unique_set)"
   ]
  },
  {
   "cell_type": "code",
   "execution_count": 32,
   "id": "d281f3c0",
   "metadata": {},
   "outputs": [
    {
     "name": "stdout",
     "output_type": "stream",
     "text": [
      "1\n",
      "5\n",
      "15\n"
     ]
    }
   ],
   "source": [
    "tu = (1, 2, 3, 4, 5)\n",
    "print(min(tu))\n",
    "print(max(tu))\n",
    "print(sum(tu))"
   ]
  }
 ],
 "metadata": {
  "kernelspec": {
   "display_name": "base",
   "language": "python",
   "name": "python3"
  },
  "language_info": {
   "codemirror_mode": {
    "name": "ipython",
    "version": 3
   },
   "file_extension": ".py",
   "mimetype": "text/x-python",
   "name": "python",
   "nbconvert_exporter": "python",
   "pygments_lexer": "ipython3",
   "version": "3.12.7"
  }
 },
 "nbformat": 4,
 "nbformat_minor": 5
}

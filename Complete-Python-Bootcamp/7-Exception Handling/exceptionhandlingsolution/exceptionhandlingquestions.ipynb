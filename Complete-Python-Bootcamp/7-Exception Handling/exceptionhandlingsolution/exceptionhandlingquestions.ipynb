{
 "cells": [
  {
   "cell_type": "markdown",
   "metadata": {},
   "source": [
    "# Module: Exception Handling Assignments\n",
    "## Lesson: Exception Handling with try, except, and finally\n",
    "### Assignment 1: Handling Division by Zero\n",
    "\n",
    "Write a function that takes two integers as input and returns their division. Use try, except, and finally blocks to handle division by zero and print an appropriate message.\n",
    "\n",
    "### Assignment 2: File Reading with Exception Handling\n",
    "\n",
    "Write a function that reads the contents of a file named `data.txt`. Use try, except, and finally blocks to handle file not found errors and ensure the file is properly closed.\n",
    "\n",
    "### Assignment 3: Handling Multiple Exceptions\n",
    "\n",
    "Write a function that takes a list of integers and returns their sum. Use try, except, and finally blocks to handle TypeError if a non-integer value is encountered and print an appropriate message.\n",
    "\n",
    "### Assignment 4: Exception Handling in User Input\n",
    "\n",
    "Write a function that prompts the user to enter an integer. Use try, except, and finally blocks to handle ValueError if the user enters a non-integer value and print an appropriate message.\n",
    "\n",
    "### Assignment 5: Exception Handling in Dictionary Access\n",
    "\n",
    "Write a function that takes a dictionary and a key as input and returns the value associated with the key. Use try, except, and finally blocks to handle KeyError if the key is not found in the dictionary and print an appropriate message.\n",
    "\n",
    "### Assignment 6: Nested Exception Handling\n",
    "\n",
    "Write a function that performs nested exception handling. It should first attempt to convert a string to an integer, and then attempt to divide by that integer. Use nested try, except, and finally blocks to handle ValueError and ZeroDivisionError and print appropriate messages.\n",
    "\n",
    "### Assignment 7: Exception Handling in List Operations\n",
    "\n",
    "Write a function that takes a list and an index as input and returns the element at the given index. Use try, except, and finally blocks to handle IndexError if the index is out of range and print an appropriate message.\n",
    "\n",
    "### Assignment 8: Exception Handling in Network Operations\n",
    "\n",
    "Write a function that attempts to open a URL and read its contents. Use try, except, and finally blocks to handle network-related errors and print an appropriate message.\n",
    "\n",
    "### Assignment 9: Exception Handling in JSON Parsing\n",
    "\n",
    "Write a function that attempts to parse a JSON string. Use try, except, and finally blocks to handle JSONDecodeError if the string is not a valid JSON and print an appropriate message.\n",
    "\n",
    "### Assignment 10: Custom Exception Handling\n",
    "\n",
    "Define a custom exception named `NegativeNumberError`. Write a function that raises this exception if a negative number is encountered in a list. Use try, except, and finally blocks to handle the custom exception and print an appropriate message.\n",
    "\n",
    "### Assignment 11: Exception Handling in Function Calls\n",
    "\n",
    "Write a function that calls another function which may raise an exception. Use try, except, and finally blocks to handle the exception and print an appropriate message.\n",
    "\n",
    "### Assignment 12: Exception Handling in Class Methods\n",
    "\n",
    "Define a class with a method that performs a division operation. Use try, except, and finally blocks within the method to handle division by zero and print an appropriate message.\n",
    "\n",
    "### Assignment 13: Exception Handling in Data Conversion\n",
    "\n",
    "Write a function that takes a list of strings and converts them to integers. Use try, except, and finally blocks to handle ValueError if a string cannot be converted and print an appropriate message.\n",
    "\n",
    "### Assignment 14: Exception Handling in List Comprehensions\n",
    "\n",
    "Write a function that uses a list comprehension to convert a list of strings to integers. Use try, except, and finally blocks within the list comprehension to handle ValueError and print an appropriate message.\n",
    "\n",
    "### Assignment 15: Exception Handling in File Writing\n",
    "\n",
    "Write a function that attempts to write a list of strings to a file. Use try, except, and finally blocks to handle IOError and ensure the file is properly closed."
   ]
  },
  {
   "cell_type": "code",
   "execution_count": 4,
   "metadata": {},
   "outputs": [
    {
     "name": "stdout",
     "output_type": "stream",
     "text": [
      "1.125\n"
     ]
    }
   ],
   "source": [
    "#1\n",
    " \n",
    "a = int(input(\"Enter a number: \"))\n",
    "b = int(input(\"Enter another number: \"))\n",
    "\n",
    "try:\n",
    "    print(a / b)\n",
    "except ZeroDivisionError as e:\n",
    "    print(e)\n",
    "except ValueError as e:\n",
    "    print(e)\n",
    "except Exception as e:\n",
    "    print(e)"
   ]
  },
  {
   "cell_type": "code",
   "execution_count": 7,
   "id": "87f370d4",
   "metadata": {},
   "outputs": [
    {
     "name": "stdout",
     "output_type": "stream",
     "text": [
      "this is data file\n",
      "using for file handling\n",
      "File closed\n"
     ]
    }
   ],
   "source": [
    "#2\n",
    "\n",
    "try:\n",
    "    with open('data.txt', 'r') as f:\n",
    "        print(f.read())\n",
    "except FileNotFoundError as e:\n",
    "    print(e)\n",
    "except Exception as e:\n",
    "    print(e)\n",
    "finally:\n",
    "    if 'f' in locals() or not f.closed():\n",
    "        f.close()\n",
    "        print(\"File closed\")"
   ]
  },
  {
   "cell_type": "code",
   "execution_count": 9,
   "id": "ae04c021",
   "metadata": {},
   "outputs": [
    {
     "name": "stdout",
     "output_type": "stream",
     "text": [
      "unsupported operand type(s) for +: 'int' and 'str'\n",
      "List elements are: [1, 2, 3, 4, 5, 'a']\n"
     ]
    }
   ],
   "source": [
    "#3\n",
    "\n",
    "lst = [1, 2, 3, 4, 5, 'a']\n",
    "\n",
    "try:\n",
    "    print(sum(lst))\n",
    "except IndexError as e:\n",
    "    print(e)\n",
    "except Exception as e:\n",
    "    print(e)\n",
    "finally:\n",
    "    print(\"List elements are:\", lst)"
   ]
  },
  {
   "cell_type": "code",
   "execution_count": 10,
   "id": "0924d2a0",
   "metadata": {},
   "outputs": [],
   "source": [
    "#4\n",
    "\n"
   ]
  },
  {
   "cell_type": "code",
   "execution_count": 13,
   "id": "969046bd",
   "metadata": {},
   "outputs": [
    {
     "name": "stdout",
     "output_type": "stream",
     "text": [
      "err 'f'\n",
      "Dictionary is: {'a': 1, 'b': 2, 'c': 3, 'd': 4, 'e': 5}\n",
      "Key 'f' is not present in the dictionary\n"
     ]
    }
   ],
   "source": [
    "#5\n",
    "\n",
    "dic = {'a': 1, 'b': 2, 'c': 3, 'd': 4, 'e': 5}\n",
    "\n",
    "try:\n",
    "    print(dic['f'])\n",
    "except KeyError as e:\n",
    "    print('err', e)\n",
    "except Exception as e:\n",
    "    print('error', e)\n",
    "finally:\n",
    "    print(\"Dictionary is:\", dic)\n",
    "    print(\"Key 'f' is not present in the dictionary\")"
   ]
  },
  {
   "cell_type": "code",
   "execution_count": null,
   "id": "8fa6791c",
   "metadata": {},
   "outputs": [
    {
     "name": "stdout",
     "output_type": "stream",
     "text": [
      "invalid literal for int() with base 10: 'asd'\n"
     ]
    }
   ],
   "source": [
    "#6\n",
    "\n",
    "try:\n",
    "    try:\n",
    "        num = int(input(\"Enter a number: \"))\n",
    "    except ValueError as e:\n",
    "        print(f\"Conversion error: {e}\")\n",
    "        num = None\n",
    "    finally:\n",
    "        print(\"Conversion attempt complete.\")\n",
    "    if num is not None:\n",
    "        try:\n",
    "            result = 10 / num\n",
    "        except ZeroDivisionError as e:\n",
    "            print(f\"Division error: {e}\")\n",
    "            result = None\n",
    "        finally:\n",
    "            print(\"Division attempt complete.\")\n",
    "        print(result)\n",
    "finally:\n",
    "    print(\"Overall execution complete.\")"
   ]
  },
  {
   "cell_type": "code",
   "execution_count": 16,
   "id": "3ac2a2e4",
   "metadata": {},
   "outputs": [],
   "source": [
    "#7\n",
    "\n"
   ]
  },
  {
   "cell_type": "code",
   "execution_count": 17,
   "id": "b3e5c70b",
   "metadata": {},
   "outputs": [
    {
     "name": "stdout",
     "output_type": "stream",
     "text": [
      "200\n",
      "b'{\\n  \"userId\": 1,\\n  \"id\": 1,\\n  \"title\": \"delectus aut autem\",\\n  \"completed\": false\\n}'\n"
     ]
    }
   ],
   "source": [
    "#8\n",
    "\n",
    "import requests\n",
    "\n",
    "url = input(\"Enter a URL: \")\n",
    "\n",
    "try:\n",
    "    r = requests.get(url)\n",
    "    print(r.status_code)\n",
    "    print(r.content)\n",
    "except requests.exceptions.ConnectionError as e:\n",
    "    print(e)\n",
    "except Exception as e:\n",
    "    print(e)\n"
   ]
  },
  {
   "cell_type": "code",
   "execution_count": 23,
   "id": "39d30f80",
   "metadata": {},
   "outputs": [
    {
     "name": "stdout",
     "output_type": "stream",
     "text": [
      "200\n",
      "Expecting value: line 2 column 1 (char 1)\n"
     ]
    }
   ],
   "source": [
    "#9\n",
    "\n",
    "from json import JSONDecodeError\n",
    "import requests\n",
    "\n",
    "\n",
    "url = input(\"Enter a URL: \")\n",
    "\n",
    "try:\n",
    "    r = requests.get(url)\n",
    "    print(r.status_code)\n",
    "    JSON = r.json()\n",
    "    print(JSON)\n",
    "except requests.exceptions.ConnectionError as e:\n",
    "    print(e)\n",
    "except JSONDecodeError as e:\n",
    "    print(e)\n",
    "except Exception as e:\n",
    "    print(e)\n"
   ]
  },
  {
   "cell_type": "code",
   "execution_count": 24,
   "id": "c8d5e4e1",
   "metadata": {},
   "outputs": [
    {
     "name": "stdout",
     "output_type": "stream",
     "text": [
      "Error: ('Negative number found: ', -4)\n",
      "Function execution complete.\n",
      "Function execution complete.\n"
     ]
    }
   ],
   "source": [
    "#10\n",
    "\n",
    "class NegativeNumberError(Exception):\n",
    "    pass\n",
    "\n",
    "\n",
    "def check_for_negatives(lst):\n",
    "    try:\n",
    "        for num in lst:\n",
    "            if num < 0:\n",
    "                raise NegativeNumberError(\"Negative number found: \", num)\n",
    "    except NegativeNumberError as e:\n",
    "        print(f\"Error: {e}\")\n",
    "    finally:\n",
    "        print(\"Function execution complete.\")\n",
    "\n",
    "\n",
    "check_for_negatives([1, 2, 3, -4, 5])\n",
    "check_for_negatives([1, 2, 3, 4, 5])"
   ]
  },
  {
   "cell_type": "code",
   "execution_count": 26,
   "id": "8e7e5c7d",
   "metadata": {},
   "outputs": [
    {
     "name": "stdout",
     "output_type": "stream",
     "text": [
      "Error: Something went wrong.\n",
      "Function execution complete.\n"
     ]
    }
   ],
   "source": [
    "#11\n",
    "\n",
    "def risky_func():\n",
    "    raise ValueError(\"Something went wrong.\")\n",
    "\n",
    "def safe_func():\n",
    "    try:\n",
    "        risky_func()\n",
    "    except ValueError as e:\n",
    "        print(f\"Error: {e}\")\n",
    "    finally:\n",
    "        print(\"Function execution complete.\")\n",
    "\n",
    "safe_func()"
   ]
  },
  {
   "cell_type": "code",
   "execution_count": 27,
   "id": "6e243be8",
   "metadata": {},
   "outputs": [
    {
     "name": "stdout",
     "output_type": "stream",
     "text": [
      "Error: division by zero\n",
      "Execution complete.\n",
      "None\n",
      "Execution complete.\n",
      "5.0\n"
     ]
    }
   ],
   "source": [
    "#12\n",
    "\n",
    "class Calculator:\n",
    "    def divide(self, a, b):\n",
    "        try:\n",
    "            result = a / b\n",
    "        except ZeroDivisionError as e:\n",
    "            print(f\"Error: {e}\")\n",
    "            result = None\n",
    "        finally:\n",
    "            print(\"Execution complete.\")\n",
    "        return result\n",
    "    \n",
    "calc = Calculator()\n",
    "print(calc.divide(10, 0))\n",
    "print(calc.divide(10, 2))"
   ]
  },
  {
   "cell_type": "code",
   "execution_count": 28,
   "id": "f729c859",
   "metadata": {},
   "outputs": [],
   "source": [
    "#13\n",
    "\n"
   ]
  },
  {
   "cell_type": "code",
   "execution_count": 30,
   "id": "d19beb9b",
   "metadata": {},
   "outputs": [
    {
     "name": "stdout",
     "output_type": "stream",
     "text": [
      "Conversion complete.\n",
      "Error: invalid literal for int() with base 10: 'a'\n",
      "Conversion complete.\n"
     ]
    }
   ],
   "source": [
    "#14\n",
    "\n",
    "def convert_to_comp(lst):\n",
    "    try:\n",
    "        integer = [int(item) for item in lst]\n",
    "    except ValueError as e:\n",
    "        print(f\"Error: {e}\")\n",
    "        integer = None\n",
    "    finally:\n",
    "        print(\"Conversion complete.\")\n",
    "    return integer\n",
    "\n",
    "convert_to_comp(['1', '2', '3', '4', '5'])\n",
    "convert_to_comp(['1', '2', '3', 'a', '5', '6'])"
   ]
  },
  {
   "cell_type": "code",
   "execution_count": 31,
   "id": "a072573b",
   "metadata": {},
   "outputs": [
    {
     "name": "stdout",
     "output_type": "stream",
     "text": [
      "File write complete.\n"
     ]
    }
   ],
   "source": [
    "#15\n",
    "\n",
    "def write_string_to_file(strings, filename):\n",
    "    try:\n",
    "        with open(filename, 'w') as f:\n",
    "            for string in strings:\n",
    "                f.write(string + '\\n')\n",
    "    except IOError as e:\n",
    "        print(f\"Error: {e}\")\n",
    "    finally:\n",
    "        try:\n",
    "            f.close()\n",
    "        except NameError:\n",
    "            pass\n",
    "        print(\"File write complete.\")\n",
    "\n",
    "write_string_to_file(['Hello', 'World'], 'output.txt')\n"
   ]
  },
  {
   "cell_type": "code",
   "execution_count": null,
   "id": "e2c0de02",
   "metadata": {},
   "outputs": [],
   "source": []
  }
 ],
 "metadata": {
  "kernelspec": {
   "display_name": "base",
   "language": "python",
   "name": "python3"
  },
  "language_info": {
   "codemirror_mode": {
    "name": "ipython",
    "version": 3
   },
   "file_extension": ".py",
   "mimetype": "text/x-python",
   "name": "python",
   "nbconvert_exporter": "python",
   "pygments_lexer": "ipython3",
   "version": "3.12.7"
  }
 },
 "nbformat": 4,
 "nbformat_minor": 5
}

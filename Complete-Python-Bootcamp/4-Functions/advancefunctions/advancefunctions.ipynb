{
 "cells": [
  {
   "cell_type": "markdown",
   "metadata": {},
   "source": [
    "# Module 4: Advanced Functions Assignments\n",
    "## Lesson 4.1: Defining Functions\n",
    "### Assignment 1: Fibonacci Sequence with Memoization\n",
    "\n",
    "Define a recursive function to calculate the nth Fibonacci number using memoization. Test the function with different inputs.\n",
    "\n",
    "### Assignment 2: Function with Nested Default Arguments\n",
    "\n",
    "Define a function that takes two arguments, a and b, where b is a dictionary with a default value of an empty dictionary. The function should add a new key-value pair to the dictionary and return it. Test the function with different inputs.\n",
    "\n",
    "### Assignment 3: Function with Variable Keyword Arguments\n",
    "\n",
    "Define a function that takes a variable number of keyword arguments and returns a dictionary containing only those key-value pairs where the value is an integer. Test the function with different inputs.\n",
    "\n",
    "### Assignment 4: Function with Callback\n",
    "\n",
    "Define a function that takes another function as a callback and a list of integers. The function should apply the callback to each integer in the list and return a new list with the results. Test with different callback functions.\n",
    "\n",
    "### Assignment 5: Function that Returns a Function\n",
    "\n",
    "Define a function that returns another function. The returned function should take an integer and return its square. Test the returned function with different inputs.\n",
    "\n",
    "### Assignment 6: Function with Decorators\n",
    "\n",
    "Define a function that calculates the time taken to execute another function. Apply this decorator to a function that performs a complex calculation. Test the decorated function with different inputs.\n",
    "\n",
    "### Assignment 7: Higher-Order Function for Filtering and Mapping\n",
    "\n",
    "Define a higher-order function that takes two functions, a filter function and a map function, along with a list of integers. The higher-order function should first filter the integers using the filter function and then apply the map function to the filtered integers. Test with different filter and map functions.\n",
    "\n",
    "### Assignment 8: Function Composition\n",
    "\n",
    "Define a function that composes two functions, f and g, such that the result is f(g(x)). Test with different functions f and g.\n",
    "\n",
    "### Assignment 9: Partial Function Application\n",
    "\n",
    "Use the functools.partial function to create a new function that multiplies its input by 2. Test the new function with different inputs.\n",
    "\n",
    "### Assignment 10: Function with Error Handling\n",
    "\n",
    "Define a function that takes a list of integers and returns their average. The function should handle any errors that occur (e.g., empty list) and return None in such cases. Test with different inputs.\n",
    "\n",
    "### Assignment 11: Function with Generators\n",
    "\n",
    "Define a function that generates an infinite sequence of Fibonacci numbers. Test by printing the first 10 numbers in the sequence.\n",
    "\n",
    "### Assignment 12: Currying\n",
    "\n",
    "Define a curried function that takes three arguments, one at a time, and returns their product. Test the function by providing arguments one at a time.\n",
    "\n",
    "### Assignment 13: Function with Context Manager\n",
    "\n",
    "Define a function that uses a context manager to write a list of integers to a file. The function should handle any errors that occur during file operations. Test with different lists.\n",
    "\n",
    "### Assignment 14: Function with Multiple Return Types\n",
    "\n",
    "Define a function that takes a list of mixed data types (integers, strings, and floats) and returns three lists: one containing all the integers, one containing all the strings, and one containing all the floats. Test with different inputs.\n",
    "\n",
    "### Assignment 15: Function with State\n",
    "\n",
    "Define a function that maintains state between calls using a mutable default argument. The function should keep track of how many times it has been called. Test by calling the function multiple times."
   ]
  },
  {
   "cell_type": "code",
   "execution_count": 3,
   "metadata": {},
   "outputs": [
    {
     "name": "stdout",
     "output_type": "stream",
     "text": [
      "0\n",
      "1\n",
      "1\n",
      "2\n",
      "3\n",
      "5\n",
      "8\n",
      "13\n",
      "21\n",
      "34\n",
      "55\n"
     ]
    }
   ],
   "source": [
    "#1\n",
    "\n",
    "def fib_recursive(n, memo={}):\n",
    "    if n in memo:\n",
    "        return memo[n]\n",
    "    if n <= 1:\n",
    "        return n\n",
    "    memo[n] = fib_recursive(n-1, memo) + fib_recursive(n-2, memo)\n",
    "    return memo[n]\n",
    "    \n",
    "\n",
    "print(fib_recursive(0))\n",
    "print(fib_recursive(1))\n",
    "print(fib_recursive(2))\n",
    "print(fib_recursive(3))\n",
    "print(fib_recursive(4))\n",
    "print(fib_recursive(5))\n",
    "print(fib_recursive(6))\n",
    "print(fib_recursive(7))\n",
    "print(fib_recursive(8))\n",
    "print(fib_recursive(9))\n",
    "print(fib_recursive(10))"
   ]
  },
  {
   "cell_type": "code",
   "execution_count": 5,
   "id": "3fbc8a26",
   "metadata": {},
   "outputs": [
    {
     "name": "stdout",
     "output_type": "stream",
     "text": [
      "{1: 1}\n",
      "{2: 4}\n",
      "{3: 9}\n",
      "{4: 16}\n",
      "{5: 25}\n",
      "{6: 36}\n",
      "{7: 49}\n",
      "{8: 64}\n",
      "{9: 81}\n",
      "{10: 100}\n"
     ]
    }
   ],
   "source": [
    "#2\n",
    "\n",
    "def func(a, b=None):\n",
    "    if b is None:\n",
    "        b = {}\n",
    "    b[a] = a**2\n",
    "    return b\n",
    "\n",
    "print(func(1))\n",
    "print(func(2))\n",
    "print(func(3))\n",
    "print(func(4))\n",
    "print(func(5))\n",
    "print(func(6))\n",
    "print(func(7))\n",
    "print(func(8))\n",
    "print(func(9))\n",
    "print(func(10))"
   ]
  },
  {
   "cell_type": "code",
   "execution_count": 6,
   "id": "1eb83f07",
   "metadata": {},
   "outputs": [
    {
     "name": "stdout",
     "output_type": "stream",
     "text": [
      "{'a': 1, 'b': 2}\n",
      "{'a': 3}\n"
     ]
    }
   ],
   "source": [
    "#3\n",
    "\n",
    "def func(**args):\n",
    "    return {k: v for k, v in args.items() if isinstance(v, int)}\n",
    "\n",
    "\n",
    "print(func(a=1, b=2, c=\"abd\"))\n",
    "print(func(a=3, c=\"abc\"))"
   ]
  },
  {
   "cell_type": "code",
   "execution_count": 7,
   "id": "a9dd85be",
   "metadata": {},
   "outputs": [
    {
     "name": "stdout",
     "output_type": "stream",
     "text": [
      "[1, 4, 9, 16, 25, 36, 49, 64, 81, 100]\n"
     ]
    }
   ],
   "source": [
    "#4\n",
    "\n",
    "def func__callback(func, lst):\n",
    "    return [func(x) for x in lst]\n",
    "\n",
    "print(func__callback(lambda x: x**2, [1, 2, 3, 4, 5, 6, 7, 8, 9, 10]))"
   ]
  },
  {
   "cell_type": "code",
   "execution_count": 9,
   "id": "58efc05c",
   "metadata": {},
   "outputs": [
    {
     "name": "stdout",
     "output_type": "stream",
     "text": [
      "4\n",
      "9\n",
      "16\n",
      "25\n",
      "36\n",
      "49\n",
      "64\n",
      "81\n",
      "100\n"
     ]
    }
   ],
   "source": [
    "#5\n",
    "\n",
    "def func():\n",
    "    def func2(x):\n",
    "        return x**2\n",
    "    return func2\n",
    "\n",
    "test = func()\n",
    "print(test(2))\n",
    "print(test(3))\n",
    "print(test(4))\n",
    "print(test(5))\n",
    "print(test(6))\n",
    "print(test(7))\n",
    "print(test(8))\n",
    "print(test(9))\n",
    "print(test(10))"
   ]
  },
  {
   "cell_type": "code",
   "execution_count": null,
   "id": "1d3e3eaa",
   "metadata": {},
   "outputs": [],
   "source": [
    "#6\n",
    "\n",
    "### Assignment 6: Function with Decorators\n",
    "\n"
   ]
  },
  {
   "cell_type": "code",
   "execution_count": 10,
   "id": "1917136d",
   "metadata": {},
   "outputs": [
    {
     "name": "stdout",
     "output_type": "stream",
     "text": [
      "[4, 16]\n"
     ]
    }
   ],
   "source": [
    "#7\n",
    "\n",
    "def fil_map_func(filter_func, map_func, lst):\n",
    "    return [map_func(x) for x in lst if filter_func(x)]\n",
    "\n",
    "print(fil_map_func(lambda x: x%2 == 0, lambda x: x**2, [1, 2, 3, 4, 5]))"
   ]
  },
  {
   "cell_type": "code",
   "execution_count": 11,
   "id": "9165bc2d",
   "metadata": {},
   "outputs": [
    {
     "name": "stdout",
     "output_type": "stream",
     "text": [
      "7\n"
     ]
    }
   ],
   "source": [
    "#8\n",
    "\n",
    "def compose(f, g):\n",
    "    return lambda x: f(g(x))\n",
    "\n",
    "f = lambda x: x + 1\n",
    "g = lambda x: x * 2\n",
    "\n",
    "h = compose(f, g)\n",
    "print(h(3))"
   ]
  },
  {
   "cell_type": "code",
   "execution_count": 12,
   "id": "e579713f",
   "metadata": {},
   "outputs": [
    {
     "name": "stdout",
     "output_type": "stream",
     "text": [
      "10\n"
     ]
    }
   ],
   "source": [
    "#9\n",
    "\n",
    "from functools import partial\n",
    "\n",
    "def mul(a, b):\n",
    "    return a * b\n",
    "\n",
    "double = partial(mul, 2)\n",
    "\n",
    "print(double(5))"
   ]
  },
  {
   "cell_type": "code",
   "execution_count": 13,
   "id": "a6d62ea5",
   "metadata": {},
   "outputs": [
    {
     "name": "stdout",
     "output_type": "stream",
     "text": [
      "3.0\n",
      "None\n"
     ]
    }
   ],
   "source": [
    "def avg(lst):\n",
    "    try:\n",
    "        return sum(lst) / len(lst)\n",
    "    except ZeroDivisionError:\n",
    "        return None\n",
    "    \n",
    "print(avg([1,2,3,4,5]))\n",
    "print(avg([]))"
   ]
  },
  {
   "cell_type": "code",
   "execution_count": 15,
   "id": "94e89d28",
   "metadata": {},
   "outputs": [
    {
     "name": "stdout",
     "output_type": "stream",
     "text": [
      "0\n",
      "1\n",
      "1\n",
      "2\n",
      "3\n",
      "5\n",
      "8\n",
      "13\n",
      "21\n",
      "34\n"
     ]
    }
   ],
   "source": [
    "def fib_gen():\n",
    "    a, b = 0, 1\n",
    "    while True:\n",
    "        yield a\n",
    "        a, b = b, a + b\n",
    "\n",
    "test = fib_gen()\n",
    "\n",
    "for _ in range(10):\n",
    "    print(next(test))"
   ]
  },
  {
   "cell_type": "code",
   "execution_count": 16,
   "id": "96001d27",
   "metadata": {},
   "outputs": [
    {
     "name": "stdout",
     "output_type": "stream",
     "text": [
      "24\n"
     ]
    }
   ],
   "source": [
    "def curry(x):\n",
    "    def inner1(y):\n",
    "        def inner2(z):\n",
    "            return x * y * z\n",
    "        return inner2\n",
    "    return inner1\n",
    "\n",
    "print(curry(2)(3)(4))"
   ]
  },
  {
   "cell_type": "code",
   "execution_count": 18,
   "id": "fef69be7",
   "metadata": {},
   "outputs": [],
   "source": [
    "def write_to_file(lst, filename):\n",
    "    try:\n",
    "        with open(filename, 'w') as f:\n",
    "            for num in lst:\n",
    "                f.write(f\"{num}\\n\")\n",
    "    except IOError as e:\n",
    "        print(f\"Error: {e}\")\n",
    "\n",
    "write_to_file([1,2,3,4,5], 'output.txt')"
   ]
  },
  {
   "cell_type": "code",
   "execution_count": 21,
   "id": "d4198988",
   "metadata": {},
   "outputs": [
    {
     "name": "stdout",
     "output_type": "stream",
     "text": [
      "([1, 3], ['a', 'b', 'c'], [2.5, 4.0])\n"
     ]
    }
   ],
   "source": [
    "def func(lst):\n",
    "    ints, strs, floats = [], [], []\n",
    "\n",
    "    for item in lst:\n",
    "        if isinstance(item, int):\n",
    "            ints.append(item)\n",
    "        elif isinstance(item, str):\n",
    "            strs.append(item)\n",
    "        elif isinstance(item, float):\n",
    "            floats.append(item)\n",
    "    return ints, strs, floats\n",
    "\n",
    "\n",
    "print(func([1, 'a', 2.5, 3, 'b', 4.0, 'c']))"
   ]
  },
  {
   "cell_type": "code",
   "execution_count": 23,
   "id": "e2fe0ff6",
   "metadata": {},
   "outputs": [
    {
     "name": "stdout",
     "output_type": "stream",
     "text": [
      "1\n",
      "2\n",
      "3\n"
     ]
    }
   ],
   "source": [
    "def coun(counter={'count':0}):\n",
    "    counter['count'] += 1\n",
    "    return counter['count']\n",
    "\n",
    "print(coun())\n",
    "print(coun()) \n",
    "print(coun())"
   ]
  },
  {
   "cell_type": "code",
   "execution_count": 27,
   "id": "31f7ed41",
   "metadata": {},
   "outputs": [
    {
     "name": "stdout",
     "output_type": "stream",
     "text": [
      "[10, 1, 2, 3, 4, 5, 6, 7, 8, 9]\n"
     ]
    }
   ],
   "source": [
    "lst = [1, 2, 3, 4, 5, 6, 7, 8, 9, 10]\n",
    "\n",
    "last_num = lst.pop()\n",
    "lst.insert(0, last_num)\n",
    "\n",
    "print(lst)"
   ]
  },
  {
   "cell_type": "code",
   "execution_count": 26,
   "id": "de3ea675",
   "metadata": {},
   "outputs": [
    {
     "name": "stdout",
     "output_type": "stream",
     "text": [
      "4\n",
      "2\n"
     ]
    }
   ],
   "source": [
    "def calculate_lift_rounds(n, capacity):\n",
    "    \"\"\"\n",
    "    Function to calculate the number of rounds the lift needs to cover.\n",
    "    \n",
    "    Parameters:\n",
    "    n (int): Total number of people.\n",
    "    capacity (int): Maximum number of people the lift can carry in one round.\n",
    "    \n",
    "    Returns:\n",
    "    int: The number of rounds required to transport all people to the top floor.\n",
    "    \"\"\"\n",
    "    if  n % capacity == 0:\n",
    "        return n // capacity\n",
    "    else:\n",
    "        return (n // capacity) + 1\n",
    "\n",
    "\n",
    "\n",
    "# n = 10, capacity = 3\n",
    "# Output: 4\n",
    " \n",
    "# Input: n = 7, capacity = 4\n",
    "# Output: 2\n",
    "\n",
    "print(calculate_lift_rounds(10, 3))\n",
    "print(calculate_lift_rounds(7, 4))\n"
   ]
  }
 ],
 "metadata": {
  "kernelspec": {
   "display_name": "base",
   "language": "python",
   "name": "python3"
  },
  "language_info": {
   "codemirror_mode": {
    "name": "ipython",
    "version": 3
   },
   "file_extension": ".py",
   "mimetype": "text/x-python",
   "name": "python",
   "nbconvert_exporter": "python",
   "pygments_lexer": "ipython3",
   "version": "3.12.7"
  }
 },
 "nbformat": 4,
 "nbformat_minor": 5
}

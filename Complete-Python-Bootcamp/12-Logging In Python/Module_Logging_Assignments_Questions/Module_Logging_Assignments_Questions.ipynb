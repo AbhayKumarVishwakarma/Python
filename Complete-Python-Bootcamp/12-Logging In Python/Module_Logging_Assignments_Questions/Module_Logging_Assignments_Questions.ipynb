{
 "cells": [
  {
   "cell_type": "markdown",
   "metadata": {},
   "source": [
    "# Module: Logging Assignments\n",
    "## Lesson: Logging\n",
    "### Assignment 1: Basic Logging\n",
    "\n",
    "1. Write a Python function to create a basic logger that logs messages to a file named `app.log`.\n",
    "2. Modify the function to log messages of levels: DEBUG, INFO, WARNING, ERROR, and CRITICAL.\n",
    "\n",
    "### Assignment 2: Logging with Different Handlers\n",
    "\n",
    "1. Write a Python function to create a logger that logs messages to both a file named `app.log` and the console.\n",
    "2. Modify the function to use different logging levels for the file and console handlers.\n",
    "\n",
    "### Assignment 3: Formatting Log Messages\n",
    "\n",
    "1. Write a Python function to create a logger with a custom log message format that includes the timestamp, logging level, and message.\n",
    "2. Modify the function to use different formats for the file and console handlers.\n",
    "\n",
    "### Assignment 4: Rotating Log Files\n",
    "\n",
    "1. Write a Python function to create a logger that uses a rotating file handler, which creates a new log file when the current log file reaches a certain size.\n",
    "2. Modify the function to keep a specified number of backup log files.\n",
    "\n",
    "### Assignment 5: Logging Exceptions\n",
    "\n",
    "1. Write a Python function that logs an exception stack trace to a log file when an exception occurs.\n",
    "2. Modify the function to log the stack trace at the ERROR level.\n",
    "\n",
    "### Assignment 6: Contextual Logging\n",
    "\n",
    "1. Write a Python function to create a logger that includes contextual information (e.g., function name, line number) in the log messages.\n",
    "2. Modify the function to include additional contextual information (e.g., user ID, session ID).\n",
    "\n",
    "### Assignment 7: Configuring Logging with a Dictionary\n",
    "\n",
    "1. Write a Python function to configure logging using a dictionary. The configuration should include handlers for both file and console logging.\n",
    "2. Modify the dictionary to include different logging levels and formats for each handler.\n",
    "\n",
    "### Assignment 8: Logging in a Multi-Module Application\n",
    "\n",
    "1. Write a Python script that sets up logging for a multi-module application. Each module should have its own logger.\n",
    "2. Modify the script to propagate log messages from each module's logger to a root logger that handles logging to a file.\n",
    "\n",
    "### Assignment 9: Logging Performance\n",
    "\n",
    "1. Write a Python script to benchmark the performance of logging with different handlers (e.g., file handler, console handler, rotating file handler).\n",
    "2. Modify the script to compare the performance of logging with and without message formatting.\n",
    "\n",
    "### Assignment 10: Advanced Logging Configuration\n",
    "\n",
    "1. Write a Python function to configure logging using an external configuration file (e.g., `logging.conf`). The configuration should include handlers for file and console logging.\n",
    "2. Modify the configuration file to use different logging levels and formats for each handler."
   ]
  },
  {
   "cell_type": "code",
   "execution_count": null,
   "metadata": {},
   "outputs": [],
   "source": [
    "# 1.1, 1.2\n",
    "\n",
    "import logging\n",
    "\n",
    "def basic_logger():\n",
    "    logging.basicConfig(filename='app.log', level=logging.DEBUG)\n",
    "    logging.debug(\"This is a debug message\")\n",
    "    logging.info(\"This is an info message\")\n",
    "    logging.warning(\"This is a warning message\")\n",
    "    logging.error(\"This is an error message\")\n",
    "    logging.critical(\"This is a critical message\")\n",
    "\n",
    "\n",
    "basic_logger()\n"
   ]
  },
  {
   "cell_type": "code",
   "execution_count": null,
   "id": "18deab5e",
   "metadata": {},
   "outputs": [
    {
     "name": "stderr",
     "output_type": "stream",
     "text": [
      "2025-05-22 14:12:35,678 - My_Logger - DEBUG - This is a debug message\n",
      "2025-05-22 14:12:35,678 - My_Logger - INFO - This is an info message\n",
      "2025-05-22 14:12:35,680 - My_Logger - WARNING - This is a warning message\n",
      "2025-05-22 14:12:35,682 - My_Logger - ERROR - This is an error message\n",
      "2025-05-22 14:12:35,682 - My_Logger - CRITICAL - This is a critical message\n"
     ]
    }
   ],
   "source": [
    "# 2.1, 2.2\n",
    "\n",
    "import logging\n",
    "\n",
    "def custom_logger():\n",
    "    logger = logging.getLogger(\"My_Logger\")\n",
    "    logger.setLevel(logging.DEBUG)\n",
    "\n",
    "    file_handler = logging.FileHandler('app.log') # for writing in file\n",
    "    console_handler = logging.StreamHandler() # for printing in console\n",
    "\n",
    "    file_handler.setLevel(logging.DEBUG)\n",
    "    console_handler.setLevel(logging.DEBUG)\n",
    "\n",
    "    formatter = logging.Formatter('%(asctime)s - %(name)s - %(levelname)s - %(message)s')\n",
    "\n",
    "    file_handler.setFormatter(formatter)\n",
    "    console_handler.setFormatter(formatter)\n",
    "\n",
    "    logger.addHandler(file_handler)\n",
    "    logger.addHandler(console_handler)\n",
    "\n",
    "    logger.debug(\"This is a debug message\")\n",
    "    logger.info(\"This is an info message\")\n",
    "    logger.warning(\"This is a warning message\")\n",
    "    logger.error(\"This is an error message\")\n",
    "    logger.critical(\"This is a critical message\")\n",
    "\n",
    "custom_logger()"
   ]
  },
  {
   "cell_type": "code",
   "execution_count": 4,
   "id": "21da0753",
   "metadata": {},
   "outputs": [
    {
     "name": "stderr",
     "output_type": "stream",
     "text": [
      "2025-05-22 14:37:55,980 - DEBUG - This is a debug message\n",
      "2025-05-22 14:37:55,982 - INFO - This is an info message\n",
      "2025-05-22 14:37:55,985 - WARNING - This is a warning message\n",
      "2025-05-22 14:37:55,986 - ERROR - This is an error messag\n",
      "2025-05-22 14:37:55,987 - CRITICAL - This is a critical message\n"
     ]
    }
   ],
   "source": [
    "# 3.1\n",
    "\n",
    "def custom_logger_format():\n",
    "    logger = logging.getLogger(\"Customer Logger\")\n",
    "    logger.setLevel(logging.DEBUG)\n",
    "\n",
    "    file_handler = logging.FileHandler('custom_app.log')\n",
    "    console_handler = logging.StreamHandler()\n",
    "\n",
    "    formatter = logging.Formatter('%(asctime)s - %(levelname)s - %(message)s')\n",
    "\n",
    "    file_handler.setFormatter(formatter)\n",
    "    console_handler.setFormatter(formatter)\n",
    "\n",
    "    logger.addHandler(file_handler)\n",
    "    logger.addHandler(console_handler)\n",
    "\n",
    "    logger.debug(\"This is a debug message\")\n",
    "    logger.info(\"This is an info message\")\n",
    "    logger.warning(\"This is a warning message\")\n",
    "    logger.error(\"This is an error messag\")\n",
    "    logger.critical(\"This is a critical message\")\n",
    "\n",
    "custom_logger_format()\n"
   ]
  },
  {
   "cell_type": "code",
   "execution_count": null,
   "id": "05f3192a",
   "metadata": {},
   "outputs": [],
   "source": []
  }
 ],
 "metadata": {
  "kernelspec": {
   "display_name": "base",
   "language": "python",
   "name": "python3"
  },
  "language_info": {
   "codemirror_mode": {
    "name": "ipython",
    "version": 3
   },
   "file_extension": ".py",
   "mimetype": "text/x-python",
   "name": "python",
   "nbconvert_exporter": "python",
   "pygments_lexer": "ipython3",
   "version": "3.12.7"
  }
 },
 "nbformat": 4,
 "nbformat_minor": 5
}

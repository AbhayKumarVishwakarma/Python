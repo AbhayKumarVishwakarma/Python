{
 "cells": [
  {
   "cell_type": "markdown",
   "id": "964cf61d",
   "metadata": {},
   "source": [
    "# Module: SQLite3 Assignments\n",
    "## Lesson: SQLite3\n",
    "### Assignment 1: Creating and Connecting to a Database\n",
    "\n",
    "1. Write a Python function to create a new SQLite3 database named `test.db`.\n",
    "2. Write a Python function to create a table named `employees` with columns `id` (integer), `name` (text), `age` (integer), and `department` (text) in the `test.db` database.\n",
    "\n",
    "### Assignment 2: Inserting Data\n",
    "\n",
    "1. Write a Python function to insert a new employee into the `employees` table.\n",
    "2. Insert at least 5 different employees into the `employees` table.\n",
    "\n",
    "### Assignment 3: Querying Data\n",
    "\n",
    "1. Write a Python function to fetch and display all records from the `employees` table.\n",
    "2. Write a Python function to fetch and display all employees from a specific department.\n",
    "\n",
    "### Assignment 4: Updating Data\n",
    "\n",
    "1. Write a Python function to update the department of an employee based on their `id`.\n",
    "2. Update the department of at least 2 employees and display the updated records.\n",
    "\n",
    "### Assignment 5: Deleting Data\n",
    "\n",
    "1. Write a Python function to delete an employee from the `employees` table based on their `id`.\n",
    "2. Delete at least 1 employee and display the remaining records.\n",
    "\n",
    "### Assignment 6: Advanced Queries\n",
    "\n",
    "1. Write a Python function to fetch and display employees older than a certain age.\n",
    "2. Write a Python function to fetch and display employees whose names start with a specific letter.\n",
    "\n",
    "### Assignment 7: Handling Transactions\n",
    "\n",
    "1. Write a Python function to insert multiple employees into the `employees` table in a single transaction. Ensure that if any insertion fails, none of the insertions are committed.\n",
    "2. Write a Python function to update the age of multiple employees in a single transaction. Ensure that if any update fails, none of the updates are committed.\n",
    "\n",
    "### Assignment 8: Creating Relationships\n",
    "\n",
    "1. Create a new table named `departments` with columns `id` (integer) and `name` (text).\n",
    "2. Modify the `employees` table to include a foreign key referencing the `id` column in the `departments` table.\n",
    "3. Write a Python function to insert data into both the `departments` and `employees` tables, ensuring referential integrity.\n",
    "\n",
    "### Assignment 9: Indexing and Optimization\n",
    "\n",
    "1. Create an index on the `name` column of the `employees` table.\n",
    "2. Write a Python function to fetch and display all employees whose names start with a specific letter. Compare the performance with and without the index.\n",
    "\n",
    "### Assignment 10: Backing Up and Restoring Data\n",
    "\n",
    "1. Write a Python function to back up the `test.db` database to a file named `backup.db`.\n",
    "2. Write a Python function to restore the `test.db` database from the `backup.db` file."
   ]
  },
  {
   "cell_type": "code",
   "execution_count": 1,
   "metadata": {},
   "outputs": [],
   "source": [
    "import sqlite3"
   ]
  },
  {
   "cell_type": "code",
   "execution_count": 2,
   "id": "487bfca6",
   "metadata": {},
   "outputs": [],
   "source": [
    "# 1.1\n",
    "\n",
    "def create_db():\n",
    "    connection = sqlite3.connect('test.db')\n",
    "    return connection\n",
    "\n",
    "conn = create_db()"
   ]
  },
  {
   "cell_type": "code",
   "execution_count": 7,
   "id": "68d56a79",
   "metadata": {},
   "outputs": [],
   "source": [
    "cursor = conn.cursor()"
   ]
  },
  {
   "cell_type": "code",
   "execution_count": null,
   "id": "151401d2",
   "metadata": {},
   "outputs": [],
   "source": [
    "# 1.2\n",
    "\n",
    "cursor.execute('''\n",
    "    create table if not exists employees(\n",
    "        id integer primary key,\n",
    "        name text not null,\n",
    "        age integer,\n",
    "        department text\n",
    "        )\n",
    "''')\n",
    "\n",
    "conn.commit()"
   ]
  },
  {
   "cell_type": "code",
   "execution_count": 13,
   "id": "14ca3c96",
   "metadata": {},
   "outputs": [],
   "source": [
    "# 2.1\n",
    "\n",
    "def add_employee(name, age, department):\n",
    "    cursor.execute('''\n",
    "        insert into employees(name, age, department)\n",
    "                   values(?, ?, ?)\n",
    "        ''', (name, age, department))\n",
    "    conn.commit()\n",
    "    return cursor.lastrowid"
   ]
  },
  {
   "cell_type": "code",
   "execution_count": 19,
   "id": "0535f54f",
   "metadata": {},
   "outputs": [
    {
     "data": {
      "text/plain": [
       "10"
      ]
     },
     "execution_count": 19,
     "metadata": {},
     "output_type": "execute_result"
    }
   ],
   "source": [
    "# 2.2\n",
    "\n",
    "add_employee('Abhay', 22, 'Software')\n",
    "add_employee('Shubham', 24, 'Software')\n",
    "add_employee('Sai', 26, 'Software')\n",
    "add_employee('Akshit', 24, 'Testing')\n",
    "add_employee('Akash', 27, 'Testing')"
   ]
  },
  {
   "cell_type": "code",
   "execution_count": 15,
   "id": "3cff5914",
   "metadata": {},
   "outputs": [
    {
     "name": "stdout",
     "output_type": "stream",
     "text": [
      "[(1, 'Abhay', 22, 'Software'), (2, 'Shubham', 24, 'Software'), (3, 'Sai', 26, 'Software'), (4, 'Akshit', 24, 'Software'), (5, 'Akash', 27, 'Software')]\n"
     ]
    }
   ],
   "source": [
    "# 3.1\n",
    "\n",
    "def get_employees():\n",
    "    cursor.execute('select * from employees')\n",
    "    return cursor.fetchall()\n",
    "\n",
    "print(get_employees())"
   ]
  },
  {
   "cell_type": "code",
   "execution_count": 22,
   "id": "c7136565",
   "metadata": {},
   "outputs": [
    {
     "name": "stdout",
     "output_type": "stream",
     "text": [
      "[(2, 'Shubham', 24, 'Software'), (3, 'Sai', 26, 'Software'), (4, 'Akshit', 24, 'Software'), (5, 'Akash', 27, 'Software'), (6, 'Abhay', 22, 'Software'), (7, 'Shubham', 24, 'Software'), (8, 'Sai', 26, 'Software')]\n",
      "[(1, 'Abhay', 22, 'Testing'), (9, 'Akshit', 24, 'Testing'), (10, 'Akash', 27, 'Testing')]\n"
     ]
    }
   ],
   "source": [
    "# 3.2\n",
    "\n",
    "def get_employee_by_department(dep):\n",
    "    cursor.execute('select * from employees where department=?', (dep,))\n",
    "    return cursor.fetchall()\n",
    "\n",
    "print(get_employee_by_department('Software'))\n",
    "print(get_employee_by_department('Testing'))"
   ]
  },
  {
   "cell_type": "code",
   "execution_count": null,
   "id": "b5447682",
   "metadata": {},
   "outputs": [
    {
     "name": "stdout",
     "output_type": "stream",
     "text": [
      "1\n"
     ]
    }
   ],
   "source": [
    "# 4.1\n",
    "\n",
    "def update_department(id, dep):\n",
    "    cursor.execute('update employees set department=? where id=?', (dep, id))\n",
    "    conn.commit()\n",
    "    return cursor.rowcount\n",
    "\n",
    "print(update_department(1, 'Testing'))"
   ]
  },
  {
   "cell_type": "code",
   "execution_count": 23,
   "id": "166ab4bd",
   "metadata": {},
   "outputs": [],
   "source": [
    "# 5.1\n",
    "\n",
    "def delete_employee(id):\n",
    "    cursor.execute('delete from employees where id=?', (id,))\n",
    "    conn.commit()\n",
    "    return cursor.rowcount"
   ]
  },
  {
   "cell_type": "code",
   "execution_count": null,
   "id": "5c6b27c4",
   "metadata": {},
   "outputs": [
    {
     "name": "stdout",
     "output_type": "stream",
     "text": [
      "1\n",
      "[(1, 'Abhay', 22, 'Testing'), (2, 'Shubham', 24, 'Software'), (3, 'Sai', 26, 'Software'), (5, 'Akash', 27, 'Software'), (6, 'Abhay', 22, 'Software'), (7, 'Shubham', 24, 'Software'), (8, 'Sai', 26, 'Software'), (9, 'Akshit', 24, 'Testing'), (10, 'Akash', 27, 'Testing')]\n"
     ]
    }
   ],
   "source": [
    "# 5.2\n",
    "\n",
    "print(delete_employee(4))\n",
    "print(get_employees())"
   ]
  },
  {
   "cell_type": "code",
   "execution_count": 26,
   "id": "b0e77a7e",
   "metadata": {},
   "outputs": [
    {
     "name": "stdout",
     "output_type": "stream",
     "text": [
      "[(3, 'Sai', 26, 'Software'), (5, 'Akash', 27, 'Software'), (8, 'Sai', 26, 'Software'), (10, 'Akash', 27, 'Testing')]\n"
     ]
    }
   ],
   "source": [
    "# 6.1\n",
    "\n",
    "def get_employees_age(age):\n",
    "    cursor.execute('select * from employees where age > ?', (age,))\n",
    "    return cursor.fetchall()\n",
    "\n",
    "print(get_employees_age(25))"
   ]
  },
  {
   "cell_type": "code",
   "execution_count": 28,
   "id": "417307d0",
   "metadata": {},
   "outputs": [
    {
     "name": "stdout",
     "output_type": "stream",
     "text": [
      "[(1, 'Abhay', 22, 'Testing'), (5, 'Akash', 27, 'Software'), (6, 'Abhay', 22, 'Software'), (9, 'Akshit', 24, 'Testing'), (10, 'Akash', 27, 'Testing')]\n"
     ]
    }
   ],
   "source": [
    "# 6.2\n",
    "\n",
    "def get_emp_name_start(letter):\n",
    "    cursor.execute('select * from employees where name like ?', (letter + '%' ,))\n",
    "    return cursor.fetchall()\n",
    "\n",
    "print(get_emp_name_start('A'))"
   ]
  },
  {
   "cell_type": "code",
   "execution_count": null,
   "id": "06873609",
   "metadata": {},
   "outputs": [],
   "source": [
    "# 7.1\n",
    "\n",
    "def insert_multiple_employees(employees):\n",
    "    try:\n",
    "        cursor.executemany(\n",
    "            '''insert into employees (name, age, department)\n",
    "            values (?, ?, ?)''', employees\n",
    "        )\n",
    "        conn.commit()\n",
    "    except Exception as e:\n",
    "        conn.rollback()\n",
    "        print(e)\n",
    "\n",
    "employees = [\n",
    "    ('Frank', 40, 'Finance'),\n",
    "    ('Grace', 29, 'Engineering'),\n",
    "    ('Hannah', 35, 'Marketing'),\n",
    "    ('Ivan', 38, 'Sales'),\n",
    "    ('Jack', 45, 'HR') \n",
    "]\n",
    "insert_multiple_employees(employees)"
   ]
  },
  {
   "cell_type": "code",
   "execution_count": null,
   "id": "89b29044",
   "metadata": {},
   "outputs": [],
   "source": [
    "# 7.2   \n",
    "\n",
    "def update_multiple_employee(employees):\n",
    "    try:\n",
    "        cursor.executemany(\n",
    "            ''' \n",
    "                update employees \n",
    "                set age = ?\n",
    "                where id = ?\n",
    "            ''',\n",
    "            employees\n",
    "        )\n",
    "        conn.commit()\n",
    "    except Exception as e:\n",
    "        conn.rollback()\n",
    "        print(e)\n",
    "\n",
    "updates = [\n",
    "    (32, 1),\n",
    "    (26, 2),\n",
    "    (33, 3),\n",
    "    (41, 4), \n",
    "    (23, 5)\n",
    "]\n",
    "update_multiple_employee(updates)"
   ]
  },
  {
   "cell_type": "code",
   "execution_count": 36,
   "id": "2be1b055",
   "metadata": {},
   "outputs": [
    {
     "name": "stdout",
     "output_type": "stream",
     "text": [
      "[(1, 'Abhay', 32, 'Testing'), (2, 'Shubham', 26, 'Software'), (3, 'Sai', 33, 'Software'), (5, 'Akash', 23, 'Software'), (6, 'Abhay', 22, 'Software'), (7, 'Shubham', 24, 'Software'), (8, 'Sai', 26, 'Software'), (9, 'Akshit', 24, 'Testing'), (10, 'Akash', 27, 'Testing'), (11, 'Frank', 40, 'Finance'), (12, 'Grace', 29, 'Engineering'), (13, 'Hannah', 35, 'Marketing'), (14, 'Ivan', 41, 'Sales'), (15, 'Jack', 45, 'HR')]\n"
     ]
    }
   ],
   "source": [
    "print(get_employees())"
   ]
  },
  {
   "cell_type": "code",
   "execution_count": 38,
   "id": "9d7cc1cd",
   "metadata": {},
   "outputs": [],
   "source": [
    "# 8.1\n",
    "\n",
    "cursor.execute(\n",
    "    ''' \n",
    "        create table if not exists departments (\n",
    "            id integer primary key,\n",
    "            name text not null\n",
    "        )\n",
    "    '''\n",
    ")\n",
    "conn.commit()"
   ]
  },
  {
   "cell_type": "code",
   "execution_count": 43,
   "id": "5498939f",
   "metadata": {},
   "outputs": [
    {
     "name": "stdout",
     "output_type": "stream",
     "text": [
      "Table 'employees' modified successfully.\n"
     ]
    }
   ],
   "source": [
    "# 8.2\n",
    "\n",
    "def add_department_foreign_key():\n",
    "    # cursor.execute(\n",
    "    #     '''\n",
    "    #         PRAGMA foreign_keys=off;\n",
    "    #         BEGIN TRANSACTION;\n",
    "            \n",
    "    #         alter table employees rename to old_employees;\n",
    "\n",
    "    #         create table employees(\n",
    "    #             id integer primary key,\n",
    "    #             name text not null,\n",
    "    #             age integer,\n",
    "    #             department text,\n",
    "    #             department_id integer,\n",
    "    #             foreign key(department_id) references departments(id)\n",
    "    #         );\n",
    "\n",
    "    #         insert into employees (id, name, age, department)\n",
    "    #         select id, name, age, department from old_employees;\n",
    "\n",
    "    #         drop table old_employees;\n",
    "\n",
    "    #         COMMIT;\n",
    "    #         PRAGMA foreign_key=on;\n",
    "    #     '''\n",
    "    # )\n",
    "\n",
    "    cursor.execute(\"PRAGMA foreign_keys=off;\")\n",
    "    cursor.execute(\"BEGIN TRANSACTION;\")\n",
    "\n",
    "    cursor.execute(\"ALTER TABLE employees RENAME TO old_employees;\")\n",
    "\n",
    "    cursor.execute('''\n",
    "        CREATE TABLE employees (\n",
    "            id INTEGER PRIMARY KEY,\n",
    "            name TEXT NOT NULL,\n",
    "            age INTEGER,\n",
    "            department TEXT,\n",
    "            department_id INTEGER,\n",
    "            FOREIGN KEY(department_id) REFERENCES departments(id)\n",
    "        );\n",
    "    ''')\n",
    "\n",
    "    cursor.execute('''\n",
    "        INSERT INTO employees (id, name, age, department)\n",
    "        SELECT id, name, age, department FROM old_employees;\n",
    "    ''')\n",
    "\n",
    "    cursor.execute(\"DROP TABLE old_employees;\")\n",
    "    cursor.execute(\"COMMIT;\")\n",
    "    cursor.execute(\"PRAGMA foreign_keys=on;\")\n",
    "    \n",
    "    conn.commit()\n",
    "    print(\"Table 'employees' modified successfully.\")\n",
    "\n",
    "\n",
    "add_department_foreign_key()"
   ]
  },
  {
   "cell_type": "code",
   "execution_count": 48,
   "id": "de9591c6",
   "metadata": {},
   "outputs": [],
   "source": [
    "# 8.3\n",
    "\n",
    "def insert_department_and_employee(dep_id, dep_name, emp_id, name, age, dep):\n",
    "    try:\n",
    "        cursor.execute(\n",
    "            ''' \n",
    "                insert into departments (id, name)\n",
    "                values (?, ?)\n",
    "            ''',\n",
    "            (dep_id, dep_name)\n",
    "        )\n",
    "\n",
    "        cursor.execute(\n",
    "            ''' \n",
    "                insert into employees (id, name, age, department, department_id)\n",
    "                values (?, ?, ?, ?, ?)\n",
    "            ''',\n",
    "            (emp_id, name, age, dep, dep_id)\n",
    "        )\n",
    "\n",
    "        conn.commit()\n",
    "        print(\"done\")\n",
    "    except Exception as e:\n",
    "        conn.rollback()\n",
    "        print(e)\n",
    "\n",
    "        "
   ]
  },
  {
   "cell_type": "code",
   "execution_count": 52,
   "id": "c3161b61",
   "metadata": {},
   "outputs": [
    {
     "name": "stdout",
     "output_type": "stream",
     "text": [
      "done\n"
     ]
    }
   ],
   "source": [
    "insert_department_and_employee(1, 'Finance', 19, 'Zara', 28, 'Finance')"
   ]
  },
  {
   "cell_type": "code",
   "execution_count": 53,
   "id": "c792a5ce",
   "metadata": {},
   "outputs": [
    {
     "name": "stdout",
     "output_type": "stream",
     "text": [
      "[(1, 'Abhay', 32, 'Testing', None), (2, 'Shubham', 26, 'Software', None), (3, 'Sai', 33, 'Software', None), (5, 'Akash', 23, 'Software', None), (6, 'Abhay', 22, 'Software', None), (7, 'Shubham', 24, 'Software', None), (8, 'Sai', 26, 'Software', None), (9, 'Akshit', 24, 'Testing', None), (10, 'Akash', 27, 'Testing', None), (11, 'Frank', 40, 'Finance', None), (12, 'Grace', 29, 'Engineering', None), (13, 'Hannah', 35, 'Marketing', None), (14, 'Ivan', 41, 'Sales', None), (15, 'Jack', 45, 'HR', None), (19, 'Zara', 28, 'Finance', 1)]\n"
     ]
    }
   ],
   "source": [
    "print(get_employees())"
   ]
  },
  {
   "cell_type": "code",
   "execution_count": 54,
   "id": "53445620",
   "metadata": {},
   "outputs": [
    {
     "name": "stdout",
     "output_type": "stream",
     "text": [
      "Index created successfully.\n"
     ]
    }
   ],
   "source": [
    "# 9.1\n",
    "\n",
    "def create_index_on_name():\n",
    "    cursor.execute('create index idx_name on employees(name)')\n",
    "    conn.commit()\n",
    "    print(\"Index created successfully.\")\n",
    "\n",
    "\n",
    "create_index_on_name()"
   ]
  },
  {
   "cell_type": "code",
   "execution_count": 55,
   "id": "1765a1a3",
   "metadata": {},
   "outputs": [
    {
     "name": "stdout",
     "output_type": "stream",
     "text": [
      "Execution time: 0.0006344318389892578 seconds\n",
      "(1, 'Abhay', 32, 'Testing', None)\n",
      "(5, 'Akash', 23, 'Software', None)\n",
      "(6, 'Abhay', 22, 'Software', None)\n",
      "(9, 'Akshit', 24, 'Testing', None)\n",
      "(10, 'Akash', 27, 'Testing', None)\n"
     ]
    }
   ],
   "source": [
    "# 9.2\n",
    "\n",
    "import time\n",
    "\n",
    "def get_employees_name_start_with_proformance(letter):\n",
    "    start_time = time.time()\n",
    "    cursor.execute('select * from employees where name like ?', (letter + '%',))\n",
    "    record = cursor.fetchall()\n",
    "    end_time = time.time()\n",
    "    print(f\"Execution time: {end_time - start_time} seconds\")\n",
    "    for row in record:\n",
    "        print(row)\n",
    "    \n",
    "\n",
    "get_employees_name_start_with_proformance('A')"
   ]
  },
  {
   "cell_type": "code",
   "execution_count": 56,
   "id": "a26a4ee4",
   "metadata": {},
   "outputs": [
    {
     "name": "stdout",
     "output_type": "stream",
     "text": [
      "Backup created successfully.\n"
     ]
    }
   ],
   "source": [
    "# 10.1\n",
    "\n",
    "import shutil\n",
    "\n",
    "def backup_database():\n",
    "    shutil.copy('test.db', 'test_backup.db')\n",
    "    print(\"Backup created successfully.\")\n",
    "\n",
    "\n",
    "backup_database()"
   ]
  },
  {
   "cell_type": "code",
   "execution_count": 57,
   "id": "0524ed6e",
   "metadata": {},
   "outputs": [
    {
     "name": "stdout",
     "output_type": "stream",
     "text": [
      "Database restored successfully.\n"
     ]
    }
   ],
   "source": [
    "# 10.2\n",
    "\n",
    "def restore_database():\n",
    "    shutil.copy('test_backup.db', 'test.db')\n",
    "    print(\"Database restored successfully.\")\n",
    "\n",
    "\n",
    "restore_database()"
   ]
  }
 ],
 "metadata": {
  "kernelspec": {
   "display_name": "base",
   "language": "python",
   "name": "python3"
  },
  "language_info": {
   "codemirror_mode": {
    "name": "ipython",
    "version": 3
   },
   "file_extension": ".py",
   "mimetype": "text/x-python",
   "name": "python",
   "nbconvert_exporter": "python",
   "pygments_lexer": "ipython3",
   "version": "3.12.7"
  }
 },
 "nbformat": 4,
 "nbformat_minor": 5
}

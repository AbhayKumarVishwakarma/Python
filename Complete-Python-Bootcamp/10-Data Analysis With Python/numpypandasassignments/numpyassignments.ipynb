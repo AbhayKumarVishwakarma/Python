{
 "cells": [
  {
   "cell_type": "markdown",
   "metadata": {},
   "source": [
    "# Module: NumPy Assignments\n",
    "## Lesson: NumPy\n",
    "### Assignment 1: Array Creation and Manipulation\n",
    "\n",
    "1. Create a NumPy array of shape (5, 5) filled with random integers between 1 and 20. Replace all the elements in the third column with 1.\n",
    "2. Create a NumPy array of shape (4, 4) with values from 1 to 16. Replace the diagonal elements with 0.\n",
    "\n",
    "### Assignment 2: Array Indexing and Slicing\n",
    "\n",
    "1. Create a NumPy array of shape (6, 6) with values from 1 to 36. Extract the sub-array consisting of the 3rd to 5th rows and 2nd to 4th columns.\n",
    "2. Create a NumPy array of shape (5, 5) with random integers. Extract the elements on the border.\n",
    "\n",
    "### Assignment 3: Array Operations\n",
    "\n",
    "1. Create two NumPy arrays of shape (3, 4) filled with random integers. Perform element-wise addition, subtraction, multiplication, and division.\n",
    "2. Create a NumPy array of shape (4, 4) with values from 1 to 16. Compute the row-wise and column-wise sum.\n",
    "\n",
    "### Assignment 4: Statistical Operations\n",
    "\n",
    "1. Create a NumPy array of shape (5, 5) filled with random integers. Compute the mean, median, standard deviation, and variance of the array.\n",
    "2. Create a NumPy array of shape (3, 3) with values from 1 to 9. Normalize the array (i.e., scale the values to have a mean of 0 and a standard deviation of 1).\n",
    "\n",
    "### Assignment 5: Broadcasting\n",
    "\n",
    "1. Create a NumPy array of shape (3, 3) filled with random integers. Add a 1D array of shape (3,) to each row of the 2D array using broadcasting.\n",
    "2. Create a NumPy array of shape (4, 4) filled with random integers. Subtract a 1D array of shape (4,) from each column of the 2D array using broadcasting.\n",
    "\n",
    "### Assignment 6: Linear Algebra\n",
    "\n",
    "1. Create a NumPy array of shape (3, 3) representing a matrix. Compute its determinant, inverse, and eigenvalues.\n",
    "2. Create two NumPy arrays of shape (2, 3) and (3, 2). Perform matrix multiplication on these arrays.\n",
    "\n",
    "### Assignment 7: Advanced Array Manipulation\n",
    "\n",
    "1. Create a NumPy array of shape (3, 3) with values from 1 to 9. Reshape the array to shape (1, 9) and then to shape (9, 1).\n",
    "2. Create a NumPy array of shape (5, 5) filled with random integers. Flatten the array and then reshape it back to (5, 5).\n",
    "\n",
    "### Assignment 8: Fancy Indexing and Boolean Indexing\n",
    "\n",
    "1. Create a NumPy array of shape (5, 5) filled with random integers. Use fancy indexing to extract the elements at the corners of the array.\n",
    "2. Create a NumPy array of shape (4, 4) filled with random integers. Use boolean indexing to set all elements greater than 10 to 10.\n",
    "\n",
    "### Assignment 9: Structured Arrays\n",
    "\n",
    "1. Create a structured array with fields 'name' (string), 'age' (integer), and 'weight' (float). Add some data and sort the array by age.\n",
    "2. Create a structured array with fields 'x' and 'y' (both integers). Add some data and compute the Euclidean distance between each pair of points.\n",
    "\n",
    "### Assignment 10: Masked Arrays\n",
    "\n",
    "1. Create a masked array of shape (4, 4) with random integers and mask the elements greater than 10. Compute the sum of the unmasked elements.\n",
    "2. Create a masked array of shape (3, 3) with random integers and mask the diagonal elements. Replace the masked elements with the mean of the unmasked elements."
   ]
  },
  {
   "cell_type": "code",
   "execution_count": 1,
   "metadata": {},
   "outputs": [
    {
     "name": "stdout",
     "output_type": "stream",
     "text": [
      "Requirement already satisfied: numpy in c:\\users\\abhaykumarvishwakarm\\anaconda3\\lib\\site-packages (1.26.4)\n"
     ]
    }
   ],
   "source": [
    "!pip install numpy"
   ]
  },
  {
   "cell_type": "code",
   "execution_count": 2,
   "id": "6c2e419e",
   "metadata": {},
   "outputs": [],
   "source": [
    "import numpy as np"
   ]
  },
  {
   "cell_type": "code",
   "execution_count": 7,
   "id": "d4887a5a",
   "metadata": {},
   "outputs": [
    {
     "name": "stdout",
     "output_type": "stream",
     "text": [
      "[[ 9 11  8 15  7]\n",
      " [ 3  8 14 10  7]\n",
      " [13  7  4  7 10]\n",
      " [15 11 15  5  5]\n",
      " [16  8  9  3  2]]\n"
     ]
    }
   ],
   "source": [
    "#1.1\n",
    "\n",
    "# np.arange(1, 26).reshape(5,5)\n",
    "\n",
    "array = np.random.randint(1, 20, (5, 5))\n",
    "print(array)"
   ]
  },
  {
   "cell_type": "code",
   "execution_count": 19,
   "id": "c42f0ba3",
   "metadata": {},
   "outputs": [
    {
     "name": "stdout",
     "output_type": "stream",
     "text": [
      "[[ 9 11  1 15  7]\n",
      " [ 3  8  1 10  7]\n",
      " [13  7  1  7 10]\n",
      " [15 11  1  5  5]\n",
      " [16  8  1  3  2]]\n"
     ]
    }
   ],
   "source": [
    "array[:, 2] = 1\n",
    "\n",
    "print(array)"
   ]
  },
  {
   "cell_type": "code",
   "execution_count": 21,
   "id": "1e1e28b1",
   "metadata": {},
   "outputs": [
    {
     "name": "stdout",
     "output_type": "stream",
     "text": [
      "[[ 1  2  3  4]\n",
      " [ 5  6  7  8]\n",
      " [ 9 10 11 12]\n",
      " [13 14 15 16]]\n"
     ]
    }
   ],
   "source": [
    "#1.2\n",
    "\n",
    "arrary = np.arange(1, 17).reshape(4, 4)\n",
    "print(arrary)"
   ]
  },
  {
   "cell_type": "code",
   "execution_count": 22,
   "id": "cded1a9c",
   "metadata": {},
   "outputs": [
    {
     "name": "stdout",
     "output_type": "stream",
     "text": [
      "[[ 0  2  3  4]\n",
      " [ 5  0  7  8]\n",
      " [ 9 10  0 12]\n",
      " [13 14 15  0]]\n"
     ]
    }
   ],
   "source": [
    "np.fill_diagonal(arrary, 0)\n",
    "print(arrary)"
   ]
  },
  {
   "cell_type": "code",
   "execution_count": 24,
   "id": "5d6ffbac",
   "metadata": {},
   "outputs": [
    {
     "name": "stdout",
     "output_type": "stream",
     "text": [
      "[[ 1  2  3  4  5  6]\n",
      " [ 7  8  9 10 11 12]\n",
      " [13 14 15 16 17 18]\n",
      " [19 20 21 22 23 24]\n",
      " [25 26 27 28 29 30]\n",
      " [31 32 33 34 35 36]]\n"
     ]
    }
   ],
   "source": [
    "# 2.1\n",
    "\n",
    "array = np.arange(1, 37).reshape(6,6)\n",
    "print(array)"
   ]
  },
  {
   "cell_type": "code",
   "execution_count": 30,
   "id": "138772cf",
   "metadata": {},
   "outputs": [
    {
     "name": "stdout",
     "output_type": "stream",
     "text": [
      "[[14 15 16]\n",
      " [20 21 22]\n",
      " [26 27 28]]\n"
     ]
    }
   ],
   "source": [
    "sub_arrary = array[2:5, 1:4]\n",
    "print(sub_arrary)"
   ]
  },
  {
   "cell_type": "code",
   "execution_count": 33,
   "id": "9133e91e",
   "metadata": {},
   "outputs": [
    {
     "name": "stdout",
     "output_type": "stream",
     "text": [
      "[[ 6 14  2 15 19]\n",
      " [17 19  9  2  7]\n",
      " [16  5 19 15  8]\n",
      " [ 4 19  4  6 19]\n",
      " [13 17 11  9 12]]\n"
     ]
    }
   ],
   "source": [
    "# 2.2\n",
    "\n",
    "array = np.random.randint(1, 20, (5, 5))\n",
    "print(array)\n"
   ]
  },
  {
   "cell_type": "code",
   "execution_count": 41,
   "id": "6e9b4fc2",
   "metadata": {},
   "outputs": [
    {
     "name": "stdout",
     "output_type": "stream",
     "text": [
      "[ 6 14  2 15 19 13 17 11  9 12 17 16  4  7  8 19]\n"
     ]
    }
   ],
   "source": [
    "border_element = np.concatenate((array[0], array[-1], array[1:-1, 0], array[1:-1, -1]))\n",
    "\n",
    "print(border_element)"
   ]
  },
  {
   "cell_type": "code",
   "execution_count": 43,
   "id": "1184fa03",
   "metadata": {},
   "outputs": [
    {
     "name": "stdout",
     "output_type": "stream",
     "text": [
      "[[6 4 7 4]\n",
      " [9 1 1 7]\n",
      " [8 8 9 5]]\n",
      "[[6 8 7 7]\n",
      " [7 2 4 1]\n",
      " [2 3 1 9]]\n",
      "Addition\n",
      " [[12 12 14 11]\n",
      " [16  3  5  8]\n",
      " [10 11 10 14]]\n",
      "Subtraction\n",
      " [[ 0 -4  0 -3]\n",
      " [ 2 -1 -3  6]\n",
      " [ 6  5  8 -4]]\n",
      "Multiplication\n",
      " [[36 32 49 28]\n",
      " [63  2  4  7]\n",
      " [16 24  9 45]]\n",
      "Division\n",
      " [[1.         0.5        1.         0.57142857]\n",
      " [1.28571429 0.5        0.25       7.        ]\n",
      " [4.         2.66666667 9.         0.55555556]]\n"
     ]
    }
   ],
   "source": [
    "# 3.1\n",
    "\n",
    "arr1 = np.random.randint(1, 10, (3,4))\n",
    "arr2 = np.random.randint(1, 10, (3,4))\n",
    "\n",
    "print(arr1)\n",
    "print(arr2)\n",
    "\n",
    "add_arr = arr1 + arr2\n",
    "sub_arr = arr1 - arr2\n",
    "mul_arr = arr1 * arr2\n",
    "div_arr = arr1 / arr2\n",
    "\n",
    "print('Addition\\n',add_arr)\n",
    "print('Subtraction\\n',sub_arr)\n",
    "print('Multiplication\\n',mul_arr)\n",
    "print('Division\\n',div_arr)"
   ]
  },
  {
   "cell_type": "code",
   "execution_count": 48,
   "id": "e54d8bc9",
   "metadata": {},
   "outputs": [
    {
     "name": "stdout",
     "output_type": "stream",
     "text": [
      "[[ 1  2  3  4]\n",
      " [ 5  6  7  8]\n",
      " [ 9 10 11 12]\n",
      " [13 14 15 16]]\n",
      "Row Addition\n",
      " [10 26 42 58]\n",
      "Column Addition\n",
      " [28 32 36 40]\n"
     ]
    }
   ],
   "source": [
    "# 3.2\n",
    "\n",
    "arr = np.arange(1, 17).reshape(4, 4)\n",
    "\n",
    "print(arr)\n",
    "\n",
    "row_add_arr = np.sum(arr, axis=1)\n",
    "column_add_arr = np.sum(arr, axis=0)\n",
    "\n",
    "print('Row Addition\\n',row_add_arr)\n",
    "print('Column Addition\\n',column_add_arr)"
   ]
  },
  {
   "cell_type": "code",
   "execution_count": 49,
   "id": "eaedcc14",
   "metadata": {},
   "outputs": [
    {
     "name": "stdout",
     "output_type": "stream",
     "text": [
      "[[ 9 20 13 16 18]\n",
      " [ 8 15  9 11 12]\n",
      " [20  8 10 18  1]\n",
      " [ 6 14 10  3 20]\n",
      " [ 8  5  8 10 12]]\n",
      "Mean\n",
      " 11.36\n",
      "Median\n",
      " 10.0\n",
      "Standard Deviation\n",
      " 5.160465095318444\n",
      "Variance\n",
      " 26.630399999999998\n"
     ]
    }
   ],
   "source": [
    "# 4.1\n",
    "\n",
    "array = np.random.randint(1, 21, (5, 5))\n",
    "print(array)\n",
    "\n",
    "print(\"Mean\\n\", np.mean(array))\n",
    "print(\"Median\\n\", np.median(array))\n",
    "print(\"Standard Deviation\\n\", np.std(array))\n",
    "print(\"Variance\\n\", np.var(array))"
   ]
  },
  {
   "cell_type": "code",
   "execution_count": 50,
   "id": "9fa6d977",
   "metadata": {},
   "outputs": [
    {
     "name": "stdout",
     "output_type": "stream",
     "text": [
      "[[1 2 3]\n",
      " [4 5 6]\n",
      " [7 8 9]]\n",
      "[[-1.54919334 -1.161895   -0.77459667]\n",
      " [-0.38729833  0.          0.38729833]\n",
      " [ 0.77459667  1.161895    1.54919334]]\n"
     ]
    }
   ],
   "source": [
    "# 4.2\n",
    "\n",
    "arr = np.arange(1, 10).reshape(3, 3)\n",
    "print(arr)\n",
    "\n",
    "mean = np.mean(arr)\n",
    "std_dev = np.std(arr)\n",
    "\n",
    "normalized_data = (arr - mean) / std_dev\n",
    "\n",
    "print(normalized_data)\n",
    "\n"
   ]
  },
  {
   "cell_type": "code",
   "execution_count": 54,
   "id": "5d934a4a",
   "metadata": {},
   "outputs": [
    {
     "name": "stdout",
     "output_type": "stream",
     "text": [
      "3D Array\n",
      " [[4 8 8]\n",
      " [7 6 1]\n",
      " [7 7 1]]\n",
      "1D Array\n",
      " [6 1 6]\n",
      "[[10  9 14]\n",
      " [13  7  7]\n",
      " [13  8  7]]\n"
     ]
    }
   ],
   "source": [
    "# 5.1\n",
    "\n",
    "arr = np.random.randint(1, 10, (3, 3))\n",
    "arr_1d = np.random.randint(1, 10, (3))\n",
    "\n",
    "print(\"3D Array\\n\",arr)\n",
    "print(\"1D Array\\n\", arr_1d)\n",
    "\n",
    "array = arr + arr_1d\n",
    "print(array)"
   ]
  },
  {
   "cell_type": "code",
   "execution_count": 58,
   "id": "46866f0d",
   "metadata": {},
   "outputs": [
    {
     "name": "stdout",
     "output_type": "stream",
     "text": [
      "3D Array\n",
      " [[11  3  1  5]\n",
      " [15  7  2  3]\n",
      " [12 15 15 11]\n",
      " [ 1  9  4  6]]\n",
      "1D Array\n",
      " [1 1 6 7]\n",
      "[[1]\n",
      " [1]\n",
      " [6]\n",
      " [7]]\n",
      "[[10  2  0  4]\n",
      " [14  6  1  2]\n",
      " [ 6  9  9  5]\n",
      " [-6  2 -3 -1]]\n"
     ]
    }
   ],
   "source": [
    "# 5.2\n",
    "\n",
    "arr = np.random.randint(1, 17, (4, 4))\n",
    "arr_1d = np.random.randint(1, 10, (4))\n",
    "\n",
    "print(\"3D Array\\n\",arr)\n",
    "print(\"1D Array\\n\", arr_1d)\n",
    "\n",
    "arr_1dd = arr_1d[:, np.newaxis]\n",
    "print(arr_1dd)\n",
    "\n",
    "result = arr - arr_1dd\n",
    "\n",
    "print(result)"
   ]
  },
  {
   "cell_type": "code",
   "execution_count": null,
   "id": "19bd2232",
   "metadata": {},
   "outputs": [],
   "source": [
    "# 6.1\n",
    "\n"
   ]
  }
 ],
 "metadata": {
  "kernelspec": {
   "display_name": "base",
   "language": "python",
   "name": "python3"
  },
  "language_info": {
   "codemirror_mode": {
    "name": "ipython",
    "version": 3
   },
   "file_extension": ".py",
   "mimetype": "text/x-python",
   "name": "python",
   "nbconvert_exporter": "python",
   "pygments_lexer": "ipython3",
   "version": "3.12.7"
  }
 },
 "nbformat": 4,
 "nbformat_minor": 5
}

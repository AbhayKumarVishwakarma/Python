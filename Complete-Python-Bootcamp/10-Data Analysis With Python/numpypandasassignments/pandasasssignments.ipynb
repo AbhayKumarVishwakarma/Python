{
 "cells": [
  {
   "cell_type": "markdown",
   "metadata": {},
   "source": [
    "# Module: Pandas Assignments\n",
    "## Lesson: Pandas\n",
    "### Assignment 1: DataFrame Creation and Indexing\n",
    "\n",
    "1. Create a Pandas DataFrame with 4 columns and 6 rows filled with random integers. Set the index to be the first column.\n",
    "2. Create a Pandas DataFrame with columns 'A', 'B', 'C' and index 'X', 'Y', 'Z'. Fill the DataFrame with random integers and access the element at row 'Y' and column 'B'.\n",
    "\n",
    "### Assignment 2: DataFrame Operations\n",
    "\n",
    "1. Create a Pandas DataFrame with 3 columns and 5 rows filled with random integers. Add a new column that is the product of the first two columns.\n",
    "2. Create a Pandas DataFrame with 3 columns and 4 rows filled with random integers. Compute the row-wise and column-wise sum.\n",
    "\n",
    "### Assignment 3: Data Cleaning\n",
    "\n",
    "1. Create a Pandas DataFrame with 3 columns and 5 rows filled with random integers. Introduce some NaN values. Fill the NaN values with the mean of the respective columns.\n",
    "2. Create a Pandas DataFrame with 4 columns and 6 rows filled with random integers. Introduce some NaN values. Drop the rows with any NaN values.\n",
    "\n",
    "### Assignment 4: Data Aggregation\n",
    "\n",
    "1. Create a Pandas DataFrame with 2 columns: 'Category' and 'Value'. Fill the 'Category' column with random categories ('A', 'B', 'C') and the 'Value' column with random integers. Group the DataFrame by 'Category' and compute the sum and mean of 'Value' for each category.\n",
    "2. Create a Pandas DataFrame with 3 columns: 'Product', 'Category', and 'Sales'. Fill the DataFrame with random data. Group the DataFrame by 'Category' and compute the total sales for each category.\n",
    "\n",
    "### Assignment 5: Merging DataFrames\n",
    "\n",
    "1. Create two Pandas DataFrames with a common column. Merge the DataFrames using the common column.\n",
    "2. Create two Pandas DataFrames with different columns. Concatenate the DataFrames along the rows and along the columns.\n",
    "\n",
    "### Assignment 6: Time Series Analysis\n",
    "\n",
    "1. Create a Pandas DataFrame with a datetime index and one column filled with random integers. Resample the DataFrame to compute the monthly mean of the values.\n",
    "2. Create a Pandas DataFrame with a datetime index ranging from '2021-01-01' to '2021-12-31' and one column filled with random integers. Compute the rolling mean with a window of 7 days.\n",
    "\n",
    "### Assignment 7: MultiIndex DataFrame\n",
    "\n",
    "1. Create a Pandas DataFrame with a MultiIndex (hierarchical index). Perform some basic indexing and slicing operations on the MultiIndex DataFrame.\n",
    "2. Create a Pandas DataFrame with MultiIndex consisting of 'Category' and 'SubCategory'. Fill the DataFrame with random data and compute the sum of values for each 'Category' and 'SubCategory'.\n",
    "\n",
    "### Assignment 8: Pivot Tables\n",
    "\n",
    "1. Create a Pandas DataFrame with columns 'Date', 'Category', and 'Value'. Create a pivot table to compute the sum of 'Value' for each 'Category' by 'Date'.\n",
    "2. Create a Pandas DataFrame with columns 'Year', 'Quarter', and 'Revenue'. Create a pivot table to compute the mean 'Revenue' for each 'Quarter' by 'Year'.\n",
    "\n",
    "### Assignment 9: Applying Functions\n",
    "\n",
    "1. Create a Pandas DataFrame with 3 columns and 5 rows filled with random integers. Apply a function that doubles the values of the DataFrame.\n",
    "2. Create a Pandas DataFrame with 3 columns and 6 rows filled with random integers. Apply a lambda function to create a new column that is the sum of the existing columns.\n",
    "\n",
    "### Assignment 10: Working with Text Data\n",
    "\n",
    "1. Create a Pandas Series with 5 random text strings. Convert all the strings to uppercase.\n",
    "2. Create a Pandas Series with 5 random text strings. Extract the first three characters of each string.\n"
   ]
  },
  {
   "cell_type": "code",
   "execution_count": 1,
   "id": "bfb4a37e",
   "metadata": {},
   "outputs": [
    {
     "name": "stdout",
     "output_type": "stream",
     "text": [
      "Requirement already satisfied: pandas in c:\\users\\abhaykumarvishwakarm\\anaconda3\\lib\\site-packages (2.2.2)\n",
      "Requirement already satisfied: numpy>=1.26.0 in c:\\users\\abhaykumarvishwakarm\\anaconda3\\lib\\site-packages (from pandas) (1.26.4)\n",
      "Requirement already satisfied: python-dateutil>=2.8.2 in c:\\users\\abhaykumarvishwakarm\\anaconda3\\lib\\site-packages (from pandas) (2.9.0.post0)\n",
      "Requirement already satisfied: pytz>=2020.1 in c:\\users\\abhaykumarvishwakarm\\anaconda3\\lib\\site-packages (from pandas) (2024.1)\n",
      "Requirement already satisfied: tzdata>=2022.7 in c:\\users\\abhaykumarvishwakarm\\anaconda3\\lib\\site-packages (from pandas) (2023.3)\n",
      "Requirement already satisfied: six>=1.5 in c:\\users\\abhaykumarvishwakarm\\anaconda3\\lib\\site-packages (from python-dateutil>=2.8.2->pandas) (1.16.0)\n",
      "Requirement already satisfied: numpy in c:\\users\\abhaykumarvishwakarm\\anaconda3\\lib\\site-packages (1.26.4)\n"
     ]
    }
   ],
   "source": [
    "!pip install pandas\n",
    "!pip install numpy"
   ]
  },
  {
   "cell_type": "code",
   "execution_count": 7,
   "metadata": {},
   "outputs": [
    {
     "name": "stdout",
     "output_type": "stream",
     "text": [
      "[[2 5 3 1]\n",
      " [4 6 6 3]\n",
      " [1 5 8 8]\n",
      " [9 8 6 6]\n",
      " [8 1 5 2]\n",
      " [9 2 4 8]] \n",
      "\n",
      "   A  B  C  D\n",
      "0  2  5  3  1\n",
      "1  4  6  6  3\n",
      "2  1  5  8  8\n",
      "3  9  8  6  6\n",
      "4  8  1  5  2\n",
      "5  9  2  4  8 \n",
      "\n",
      "   B  C  D\n",
      "A         \n",
      "2  5  3  1\n",
      "4  6  6  3\n",
      "1  5  8  8\n",
      "9  8  6  6\n",
      "8  1  5  2\n",
      "9  2  4  8 \n",
      "\n"
     ]
    }
   ],
   "source": [
    "# 1.1\n",
    "\n",
    "import pandas as pd\n",
    "import numpy as np\n",
    "\n",
    "array = np.random.randint(1, 10, size=(6, 4))\n",
    "print(array, \"\\n\")\n",
    "\n",
    "df = pd.DataFrame(array, columns=['A', 'B', 'C', 'D'])\n",
    "print(df, \"\\n\")\n",
    "\n",
    "df.set_index('A', inplace=True)\n",
    "print(df, \"\\n\")"
   ]
  },
  {
   "cell_type": "code",
   "execution_count": 11,
   "id": "eb12fb1f",
   "metadata": {},
   "outputs": [
    {
     "name": "stdout",
     "output_type": "stream",
     "text": [
      "[[2 4 3]\n",
      " [4 8 7]\n",
      " [8 3 8]] \n",
      "\n",
      "   A  B  C\n",
      "X  2  4  3\n",
      "Y  4  8  7\n",
      "Z  8  3  8 \n",
      "\n",
      "8\n"
     ]
    }
   ],
   "source": [
    "# 1.2\n",
    "\n",
    "arr = np.random.randint(1, 10, size=(3, 3))\n",
    "print(arr, \"\\n\")\n",
    "\n",
    "df = pd.DataFrame(arr, columns=['A', 'B', 'C'], index=['X', 'Y', 'Z'])\n",
    "print(df, \"\\n\")\n",
    "\n",
    "element = df.at['Y', 'B']\n",
    "print(element)"
   ]
  },
  {
   "cell_type": "code",
   "execution_count": 13,
   "id": "e921ce10",
   "metadata": {},
   "outputs": [
    {
     "name": "stdout",
     "output_type": "stream",
     "text": [
      "[[9 8 5]\n",
      " [4 3 8]\n",
      " [2 3 1]\n",
      " [4 9 4]\n",
      " [8 8 4]] \n",
      "\n",
      "   A  B  C\n",
      "0  9  8  5\n",
      "1  4  3  8\n",
      "2  2  3  1\n",
      "3  4  9  4\n",
      "4  8  8  4 \n",
      "\n",
      "   A  B  C   D\n",
      "0  9  8  5  72\n",
      "1  4  3  8  12\n",
      "2  2  3  1   6\n",
      "3  4  9  4  36\n",
      "4  8  8  4  64 \n",
      "\n"
     ]
    }
   ],
   "source": [
    "# 2.1\n",
    "\n",
    "arr = np.random.randint(1, 10, (5, 3))\n",
    "print(arr, \"\\n\")\n",
    "\n",
    "df = pd.DataFrame(arr, columns=['A', 'B', 'C'])\n",
    "print(df, \"\\n\")\n",
    "\n",
    "df['D'] = df['A'] * df['B']\n",
    "print(df, \"\\n\")\n",
    "\n"
   ]
  },
  {
   "cell_type": "code",
   "execution_count": 14,
   "id": "0f06feea",
   "metadata": {},
   "outputs": [
    {
     "name": "stdout",
     "output_type": "stream",
     "text": [
      "[[7 8 4]\n",
      " [9 7 8]\n",
      " [8 4 3]\n",
      " [5 4 4]] \n",
      "\n",
      "   A  B  C\n",
      "0  7  8  4\n",
      "1  9  7  8\n",
      "2  8  4  3\n",
      "3  5  4  4 \n",
      "\n",
      "0    19\n",
      "1    24\n",
      "2    15\n",
      "3    13\n",
      "dtype: int64 \n",
      "\n",
      "A    29\n",
      "B    23\n",
      "C    19\n",
      "dtype: int64 \n",
      "\n"
     ]
    }
   ],
   "source": [
    "# 2.2\n",
    "\n",
    "arr = np.random.randint(1, 10, (4, 3))\n",
    "print(arr, \"\\n\")\n",
    "\n",
    "df = pd.DataFrame(arr, columns=['A', 'B', 'C'])\n",
    "print(df, \"\\n\")\n",
    "\n",
    "row_sum = df.sum(axis=1)\n",
    "column_sum = df.sum(axis=0)\n",
    "\n",
    "print(row_sum, \"\\n\")\n",
    "print(column_sum, \"\\n\")"
   ]
  },
  {
   "cell_type": "code",
   "execution_count": 17,
   "id": "15b581f6",
   "metadata": {},
   "outputs": [
    {
     "name": "stdout",
     "output_type": "stream",
     "text": [
      "   A  B  C\n",
      "0  7  1  4\n",
      "1  3  1  5\n",
      "2  4  3  5\n",
      "3  5  3  6\n",
      "4  1  6  3 \n",
      "\n",
      "     A    B    C\n",
      "0  7.0  1.0  4.0\n",
      "1  3.0  1.0  5.0\n",
      "2  4.0  NaN  5.0\n",
      "3  5.0  3.0  NaN\n",
      "4  NaN  6.0  3.0 \n",
      "\n",
      "      A     B     C\n",
      "0  7.00  1.00  4.00\n",
      "1  3.00  1.00  5.00\n",
      "2  4.00  2.75  5.00\n",
      "3  5.00  3.00  4.25\n",
      "4  4.75  6.00  3.00 \n",
      "\n"
     ]
    }
   ],
   "source": [
    "# 3.1\n",
    "\n",
    "df = pd.DataFrame(np.random.randint(1, 10, (5, 3)), columns=['A', 'B', 'C'])\n",
    "print(df, \"\\n\")\n",
    "\n",
    "df.iloc[2, 1] = np.nan\n",
    "df.iloc[3, 2] = np.nan\n",
    "df.iloc[4, 0] = np.nan\n",
    "print(df, \"\\n\")\n",
    "\n",
    "df.fillna(df.mean(), inplace=True)\n",
    "print(df, \"\\n\")"
   ]
  },
  {
   "cell_type": "code",
   "execution_count": 21,
   "id": "abf8fa20",
   "metadata": {},
   "outputs": [
    {
     "name": "stdout",
     "output_type": "stream",
     "text": [
      "   A  B  C  D\n",
      "0  9  1  1  7\n",
      "1  2  2  5  9\n",
      "2  9  5  2  6\n",
      "3  4  6  5  4\n",
      "4  8  3  9  7\n",
      "5  2  4  3  4 \n",
      "\n",
      "     A    B    C  D\n",
      "0  9.0  1.0  1.0  7\n",
      "1  2.0  2.0  5.0  9\n",
      "2  9.0  NaN  2.0  6\n",
      "3  4.0  6.0  NaN  4\n",
      "4  NaN  3.0  9.0  7\n",
      "5  2.0  4.0  3.0  4 \n",
      "\n",
      "     A    B    C  D\n",
      "0  9.0  1.0  1.0  7\n",
      "1  2.0  2.0  5.0  9\n",
      "5  2.0  4.0  3.0  4 \n",
      "\n"
     ]
    }
   ],
   "source": [
    "# 3.2\n",
    "\n",
    "df = pd.DataFrame(np.random.randint(1, 10, (6, 4)), columns=['A', 'B', 'C', 'D'])\n",
    "print(df, \"\\n\")\n",
    "\n",
    "df.iloc[2, 1] = np.nan\n",
    "df.iloc[3, 2] = np.nan\n",
    "df.iloc[4, 0] = np.nan\n",
    "print(df, \"\\n\")\n",
    "\n",
    "df.dropna(inplace=True)\n",
    "print(df, \"\\n\")"
   ]
  },
  {
   "cell_type": "code",
   "execution_count": 25,
   "id": "38de3c98",
   "metadata": {},
   "outputs": [
    {
     "name": "stdout",
     "output_type": "stream",
     "text": [
      "  Category  Value\n",
      "0        C      3\n",
      "1        B      9\n",
      "2        C      9\n",
      "3        B      1\n",
      "4        B      6\n",
      "5        A      6\n",
      "6        A      1\n",
      "7        A      7\n",
      "8        B      2\n",
      "9        C      8 \n",
      "\n",
      "          sum      mean  median\n",
      "Category                       \n",
      "A          14  4.666667     6.0\n",
      "B          18  4.500000     4.0\n",
      "C          20  6.666667     8.0 \n",
      "\n"
     ]
    }
   ],
   "source": [
    "# 4.1\n",
    "\n",
    "df = pd.DataFrame({'Category': np.random.choice(['A', 'B', 'C'], 10),\n",
    "    'Value': np.random.randint(1, 10, 10)})\n",
    "print(df, \"\\n\")\n",
    "\n",
    "x = df.groupby('Category')['Value'].agg(['sum', 'mean', 'median'])\n",
    "print(x, \"\\n\")\n"
   ]
  },
  {
   "cell_type": "code",
   "execution_count": 28,
   "id": "dd3506b2",
   "metadata": {},
   "outputs": [
    {
     "name": "stdout",
     "output_type": "stream",
     "text": [
      "  Product Category  Sales\n",
      "0   Prod1        B      9\n",
      "1   Prod2        C      3\n",
      "2   Prod2        A      6\n",
      "3   Prod2        C      3\n",
      "4   Prod1        A      4\n",
      "5   Prod1        C      7\n",
      "6   Prod3        C      2\n",
      "7   Prod1        C      6\n",
      "8   Prod3        A      3\n",
      "9   Prod2        C      6 \n",
      "\n",
      "Category\n",
      "A    13\n",
      "B     9\n",
      "C    27\n",
      "Name: Sales, dtype: int32 \n",
      "\n"
     ]
    }
   ],
   "source": [
    "# 4.2\n",
    "\n",
    "df = pd.DataFrame({'Product': np.random.choice(['Prod1', 'Prod2', 'Prod3'], 10),\n",
    "    'Category': np.random.choice(['A', 'B', 'C'], 10),\n",
    "    'Sales': np.random.randint(1, 10, 10)})\n",
    "\n",
    "print(df, \"\\n\")\n",
    "\n",
    "x = df.groupby('Category')['Sales'].sum()\n",
    "print(x, \"\\n\")\n"
   ]
  },
  {
   "cell_type": "code",
   "execution_count": 33,
   "id": "c8be5351",
   "metadata": {},
   "outputs": [
    {
     "name": "stdout",
     "output_type": "stream",
     "text": [
      "  Key  Value1\n",
      "0   A       5\n",
      "1   B       4\n",
      "2   C       8\n",
      "3   D       1 \n",
      "\n",
      "  Key  Value2\n",
      "0   A       2\n",
      "1   B       5\n",
      "2   C       8\n",
      "3   E       2 \n",
      "\n",
      "  Key  Value1  Value2\n",
      "0   A       5       2\n",
      "1   B       4       5\n",
      "2   C       8       8 \n",
      "\n"
     ]
    }
   ],
   "source": [
    "# 5.1\n",
    "\n",
    "df1 = pd.DataFrame({'Key': ['A', 'B', 'C', 'D'], 'Value1': np.random.randint(1, 10, size=4)})\n",
    "df2 = pd.DataFrame({'Key': ['A', 'B', 'C', 'E'], 'Value2': np.random.randint(1, 10, size=4)})\n",
    "print(df1, \"\\n\")\n",
    "print(df2, \"\\n\")\n",
    "\n",
    "df3 = pd.merge(df1, df2, on='Key')\n",
    "print(df3, \"\\n\")"
   ]
  },
  {
   "cell_type": "code",
   "execution_count": 38,
   "id": "32b3d13d",
   "metadata": {},
   "outputs": [
    {
     "name": "stdout",
     "output_type": "stream",
     "text": [
      "   A  B\n",
      "0  9  3\n",
      "1  3  8\n",
      "2  1  5 \n",
      "\n",
      "   C  D\n",
      "0  5  6\n",
      "1  2  3\n",
      "2  3  2 \n",
      "\n",
      "   A  B  C  D\n",
      "0  9  3  5  6\n",
      "1  3  8  2  3\n",
      "2  1  5  3  2 \n",
      "\n",
      "     A    B    C    D\n",
      "0  9.0  3.0  NaN  NaN\n",
      "1  3.0  8.0  NaN  NaN\n",
      "2  1.0  5.0  NaN  NaN\n",
      "0  NaN  NaN  5.0  6.0\n",
      "1  NaN  NaN  2.0  3.0\n",
      "2  NaN  NaN  3.0  2.0 \n",
      "\n"
     ]
    }
   ],
   "source": [
    "# 5.2\n",
    "\n",
    "df1 = pd.DataFrame({'A': np.random.randint(1, 10, 3), 'B': np.random.randint(1, 10, 3)})\n",
    "df2 = pd.DataFrame({'C': np.random.randint(1, 10, 3), 'D': np.random.randint(1, 10, 3)})\n",
    "\n",
    "print(df1, \"\\n\")\n",
    "print(df2, \"\\n\")\n",
    "\n",
    "# axis=0 for row and axis=1 for column\n",
    "df3 = pd.concat([df1, df2], axis=1)\n",
    "df4 = pd.concat([df1, df2], axis=0) \n",
    "\n",
    "print(df3, \"\\n\")\n",
    "print(df4, \"\\n\")\n"
   ]
  },
  {
   "cell_type": "code",
   "execution_count": 51,
   "id": "33228d63",
   "metadata": {},
   "outputs": [
    {
     "name": "stdout",
     "output_type": "stream",
     "text": [
      "            data\n",
      "date            \n",
      "2022-01-01    72\n",
      "2022-01-02    97\n",
      "2022-01-03     3\n",
      "2022-01-04    24\n",
      "2022-01-05     9\n",
      "...          ...\n",
      "2022-12-27    82\n",
      "2022-12-28    20\n",
      "2022-12-29    76\n",
      "2022-12-30    78\n",
      "2022-12-31    52\n",
      "\n",
      "[365 rows x 1 columns]\n",
      "                 data\n",
      "date                 \n",
      "2022-01-31  47.709677\n",
      "2022-02-28  43.142857\n",
      "2022-03-31  48.709677\n",
      "2022-04-30  53.000000\n",
      "2022-05-31  45.774194\n",
      "2022-06-30  52.966667\n",
      "2022-07-31  43.548387\n",
      "2022-08-31  48.709677\n",
      "2022-09-30  52.033333\n",
      "2022-10-31  54.483871\n",
      "2022-11-30  52.233333\n",
      "2022-12-31  48.096774 \n",
      "\n"
     ]
    },
    {
     "name": "stderr",
     "output_type": "stream",
     "text": [
      "C:\\Users\\AbhayKumarVishwakarm\\AppData\\Local\\Temp\\ipykernel_30420\\153944728.py:10: FutureWarning: 'M' is deprecated and will be removed in a future version, please use 'ME' instead.\n",
      "  monthly_mean = df.resample('M').mean()\n"
     ]
    }
   ],
   "source": [
    "# 6.1\n",
    "\n",
    "date_rng = pd.date_range(start='2022-01-01', end='2022-12-31', freq='D')\n",
    "df = pd.DataFrame(date_rng, columns=['date'])\n",
    "df['data'] = np.random.randint(0, 100, size=(len(date_rng)))\n",
    "df.set_index('date', inplace=True)\n",
    "print(df)\n",
    "\n",
    "\n",
    "monthly_mean = df.resample('M').mean()\n",
    "print(monthly_mean, \"\\n\")"
   ]
  },
  {
   "cell_type": "code",
   "execution_count": 54,
   "id": "dbcf91b9",
   "metadata": {},
   "outputs": [
    {
     "name": "stdout",
     "output_type": "stream",
     "text": [
      "            data\n",
      "date            \n",
      "2022-01-01    12\n",
      "2022-01-02     4\n",
      "2022-01-03    56\n",
      "2022-01-04    58\n",
      "2022-01-05    94\n",
      "...          ...\n",
      "2022-12-27    22\n",
      "2022-12-28    83\n",
      "2022-12-29    48\n",
      "2022-12-30     5\n",
      "2022-12-31    84\n",
      "\n",
      "[365 rows x 1 columns] \n",
      "\n",
      "                 data\n",
      "date                 \n",
      "2022-01-01        NaN\n",
      "2022-01-02        NaN\n",
      "2022-01-03        NaN\n",
      "2022-01-04        NaN\n",
      "2022-01-05        NaN\n",
      "...               ...\n",
      "2022-12-27  59.571429\n",
      "2022-12-28  62.428571\n",
      "2022-12-29  63.571429\n",
      "2022-12-30  52.142857\n",
      "2022-12-31  52.857143\n",
      "\n",
      "[365 rows x 1 columns] \n",
      "\n"
     ]
    }
   ],
   "source": [
    "# 6.2\n",
    "\n",
    "date_range = pd.date_range(start='2022-01-01', end='2022-12-31', freq='D')\n",
    "df = pd.DataFrame(date_range, columns=['date'])\n",
    "df['data'] = np.random.randint(1, 100, size=(len(date_range)))\n",
    "df.set_index('date', inplace=True)\n",
    "print(df, \"\\n\")\n",
    "\n",
    "rolling_mean = df.rolling(window=7).mean()\n",
    "print(rolling_mean, \"\\n\")"
   ]
  },
  {
   "cell_type": "code",
   "execution_count": null,
   "id": "4a147c84",
   "metadata": {},
   "outputs": [
    {
     "name": "stdout",
     "output_type": "stream",
     "text": [
      "                      Value1  Value2  Value3  Value4\n",
      "Category SubCategory                                \n",
      "A        one               9       7       4       2\n",
      "         two               1       1       7       8\n",
      "         three             8       2       7       1\n",
      "B        one               3       3       7       2\n",
      "         two               5       6       4       9\n",
      "         three             9       5       4       1 \n",
      "\n",
      "Value1    9\n",
      "Value2    7\n",
      "Value3    4\n",
      "Value4    2\n",
      "Name: (A, one), dtype: int32\n"
     ]
    }
   ],
   "source": [
    "arrays = [['A', 'A', 'A', 'B', 'B', 'B'], ['one', 'two', 'three', 'one', 'two', 'three']]\n",
    "index = pd.MultiIndex.from_arrays(arrays, names=('Category', 'SubCategory'))\n",
    "\n",
    "df = pd.DataFrame(np.random.randint(1, 10, (6, 4)), index=index, columns=['Value1', 'Value2', 'Value3', 'Value4'])\n",
    "print(df, \"\\n\")\n",
    "\n",
    "print(df.loc['A', 'one'])\n",
    "\n",
    "\n"
   ]
  },
  {
   "cell_type": "code",
   "execution_count": 64,
   "id": "18ee2892",
   "metadata": {},
   "outputs": [
    {
     "name": "stdout",
     "output_type": "stream",
     "text": [
      "                      Value1  Value2  Value3\n",
      "Category SubCategory                        \n",
      "A        one               7       9       4\n",
      "         two               2       2       8\n",
      "         one               3       8       5\n",
      "B        two               3       2       3 \n",
      "\n",
      "                      Value1  Value2  Value3\n",
      "Category SubCategory                        \n",
      "A        one              10      17       9\n",
      "         two               2       2       8\n",
      "B        two               3       2       3 \n",
      "\n"
     ]
    }
   ],
   "source": [
    "arrays = [['A', 'A', 'A', 'B'], ['one', 'two', 'one', 'two', ]]\n",
    "index = pd.MultiIndex.from_arrays(arrays, names=('Category', 'SubCategory'))\n",
    "df = pd.DataFrame(np.random.randint(1, 10, (4, 3)), index = index, columns=['Value1', 'Value2', 'Value3'])\n",
    "print(df, \"\\n\")        \n",
    "\n",
    "\n",
    "sum_values = df.groupby(['Category', 'SubCategory']).sum()\n",
    "print(sum_values, \"\\n\")"
   ]
  },
  {
   "cell_type": "code",
   "execution_count": 67,
   "id": "54853899",
   "metadata": {},
   "outputs": [
    {
     "name": "stdout",
     "output_type": "stream",
     "text": [
      "         Date Category  Value\n",
      "0  2022-02-18        A      3\n",
      "1  2022-07-24        A      5\n",
      "2  2022-09-24        C      5\n",
      "3  2022-01-15        B      5\n",
      "4  2022-01-26        B      2\n",
      "5  2022-11-07        A      2\n",
      "6  2022-05-23        B      3\n",
      "7  2022-08-18        B      6\n",
      "8  2022-11-02        B      8\n",
      "9  2022-07-06        C      8\n",
      "10 2022-09-13        C      5\n",
      "11 2022-08-13        B      3\n",
      "12 2022-02-19        A      2\n",
      "13 2022-03-22        C      7\n",
      "14 2022-01-06        A      8\n",
      "15 2022-09-11        B      5\n",
      "16 2022-03-01        B      5\n",
      "17 2022-03-10        B      8\n",
      "18 2022-11-13        B      9\n",
      "19 2022-04-03        B      8 \n",
      "\n",
      "Category      A    B    C\n",
      "Date                     \n",
      "2022-01-06  8.0  NaN  NaN\n",
      "2022-01-15  NaN  5.0  NaN\n",
      "2022-01-26  NaN  2.0  NaN\n",
      "2022-02-18  3.0  NaN  NaN\n",
      "2022-02-19  2.0  NaN  NaN\n",
      "2022-03-01  NaN  5.0  NaN\n",
      "2022-03-10  NaN  8.0  NaN\n",
      "2022-03-22  NaN  NaN  7.0\n",
      "2022-04-03  NaN  8.0  NaN\n",
      "2022-05-23  NaN  3.0  NaN\n",
      "2022-07-06  NaN  NaN  8.0\n",
      "2022-07-24  5.0  NaN  NaN\n",
      "2022-08-13  NaN  3.0  NaN\n",
      "2022-08-18  NaN  6.0  NaN\n",
      "2022-09-11  NaN  5.0  NaN\n",
      "2022-09-13  NaN  NaN  5.0\n",
      "2022-09-24  NaN  NaN  5.0\n",
      "2022-11-02  NaN  8.0  NaN\n",
      "2022-11-07  2.0  NaN  NaN\n",
      "2022-11-13  NaN  9.0  NaN \n",
      "\n"
     ]
    }
   ],
   "source": [
    "# 8.1\n",
    "\n",
    "date_rang = pd.date_range(start='2022-01-01', end='2022-12-31', freq='D')\n",
    "df = pd.DataFrame({'Date': np.random.choice(date_range, 20), 'Category': np.random.choice(['A', 'B', 'C'], 20), 'Value': np.random.randint(1, 10, 20)})\n",
    "print(df, \"\\n\")\n",
    "\n",
    "pivot_table = df.pivot_table(values='Value', index='Date', columns='Category')\n",
    "print(pivot_table, \"\\n\")"
   ]
  },
  {
   "cell_type": "code",
   "execution_count": 68,
   "id": "48f14c29",
   "metadata": {},
   "outputs": [],
   "source": [
    "# 8.2"
   ]
  },
  {
   "cell_type": "code",
   "execution_count": 70,
   "id": "ab1d53b1",
   "metadata": {},
   "outputs": [
    {
     "name": "stdout",
     "output_type": "stream",
     "text": [
      "   A  B  C\n",
      "0  1  1  9\n",
      "1  1  8  8\n",
      "2  5  4  9\n",
      "3  8  5  4\n",
      "4  3  7  5 \n",
      "\n",
      "    A   B   C\n",
      "0   2   2  18\n",
      "1   2  16  16\n",
      "2  10   8  18\n",
      "3  16  10   8\n",
      "4   6  14  10 \n",
      "\n"
     ]
    },
    {
     "name": "stderr",
     "output_type": "stream",
     "text": [
      "C:\\Users\\AbhayKumarVishwakarm\\AppData\\Local\\Temp\\ipykernel_30420\\1811114181.py:6: FutureWarning: DataFrame.applymap has been deprecated. Use DataFrame.map instead.\n",
      "  df_d = df.applymap(lambda x: x * 2)\n"
     ]
    }
   ],
   "source": [
    "# 9.1\n",
    "\n",
    "df = pd.DataFrame(np.random.randint(1, 10, (5, 3)), columns=['A', 'B', 'C'])\n",
    "print(df, \"\\n\")\n",
    "\n",
    "df_d = df.applymap(lambda x: x * 2)\n",
    "print(df_d, \"\\n\")"
   ]
  },
  {
   "cell_type": "code",
   "execution_count": 71,
   "id": "c81760e8",
   "metadata": {},
   "outputs": [],
   "source": [
    "# 9.2"
   ]
  },
  {
   "cell_type": "code",
   "execution_count": 74,
   "id": "77df64c4",
   "metadata": {},
   "outputs": [
    {
     "name": "stdout",
     "output_type": "stream",
     "text": [
      "0     apple\n",
      "1    banana\n",
      "2    cherry\n",
      "3     apple\n",
      "4    banana\n",
      "5    cherry\n",
      "dtype: object \n",
      "\n",
      "apple     2\n",
      "banana    2\n",
      "cherry    2\n",
      "Name: count, dtype: int64 \n",
      "\n",
      "0     APPLE\n",
      "1    BANANA\n",
      "2    CHERRY\n",
      "3     APPLE\n",
      "4    BANANA\n",
      "5    CHERRY\n",
      "dtype: object \n",
      "\n"
     ]
    }
   ],
   "source": [
    "# 10.1\n",
    "\n",
    "text_data = pd.Series(['apple', 'banana', 'cherry', 'apple', 'banana', 'cherry'])\n",
    "print(text_data, \"\\n\")\n",
    "\n",
    "word_count = text_data.value_counts()\n",
    "print(word_count, \"\\n\")\n",
    "\n",
    "up_data = text_data.str.upper()\n",
    "print(up_data, \"\\n\")"
   ]
  },
  {
   "cell_type": "code",
   "execution_count": null,
   "id": "63b446c9",
   "metadata": {},
   "outputs": [],
   "source": []
  }
 ],
 "metadata": {
  "kernelspec": {
   "display_name": "base",
   "language": "python",
   "name": "python3"
  },
  "language_info": {
   "codemirror_mode": {
    "name": "ipython",
    "version": 3
   },
   "file_extension": ".py",
   "mimetype": "text/x-python",
   "name": "python",
   "nbconvert_exporter": "python",
   "pygments_lexer": "ipython3",
   "version": "3.12.7"
  }
 },
 "nbformat": 4,
 "nbformat_minor": 5
}

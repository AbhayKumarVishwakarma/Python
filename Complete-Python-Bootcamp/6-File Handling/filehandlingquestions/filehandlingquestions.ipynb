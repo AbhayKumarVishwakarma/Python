{
 "cells": [
  {
   "cell_type": "markdown",
   "metadata": {},
   "source": [
    "# Module: File Handling Assignments\n",
    "## Lesson: File Handling and Operations\n",
    "### Assignment 1: Reading a File\n",
    "\n",
    "Write a function that reads the contents of a file named `sample.txt` and prints each line.\n",
    "\n",
    "### Assignment 2: Writing to a File\n",
    "\n",
    "Write a function that writes a list of strings to a file named `output.txt`, with each string on a new line.\n",
    "\n",
    "### Assignment 3: Copying a File\n",
    "\n",
    "Write a function that copies the contents of a file named `source.txt` to a new file named `destination.txt`.\n",
    "\n",
    "### Assignment 4: Appending to a File\n",
    "\n",
    "Write a function that appends a given string to the end of a file named `log.txt`.\n",
    "\n",
    "### Assignment 5: Counting Words in a File\n",
    "\n",
    "Write a function that reads the contents of a file named `document.txt` and returns the number of words in the file.\n",
    "\n",
    "### Assignment 6: Finding and Replacing Text\n",
    "\n",
    "Write a function that finds and replaces all occurrences of a given word in a file named `data.txt` with another word.\n",
    "\n",
    "### Assignment 7: Reading a File in Reverse\n",
    "\n",
    "Write a function that reads the contents of a file named `reverse.txt` and prints each line in reverse order.\n",
    "\n",
    "### Assignment 8: Counting Lines, Words, and Characters\n",
    "\n",
    "Write a function that reads the contents of a file named `stats.txt` and returns the number of lines, words, and characters in the file.\n",
    "\n",
    "### Assignment 9: Merging Multiple Files\n",
    "\n",
    "Write a function that merges the contents of multiple files into a single file named `merged.txt`.\n",
    "\n",
    "### Assignment 10: Splitting a Large File\n",
    "\n",
    "Write a function that splits a large file named `large.txt` into smaller files of 100 lines each.\n",
    "\n",
    "### Assignment 11: Creating a Log File\n",
    "\n",
    "Write a function that creates a log file named `activity.log` and writes log messages with timestamps.\n",
    "\n",
    "### Assignment 12: Binary File Operations\n",
    "\n",
    "Write a function that reads a binary file named `image.bin` and writes its contents to another binary file named `copy_image.bin`.\n",
    "\n",
    "### Assignment 13: CSV File Operations\n",
    "\n",
    "Write a function that reads a CSV file named `data.csv` and prints its contents as a list of dictionaries.\n",
    "\n",
    "### Assignment 14: JSON File Operations\n",
    "\n",
    "Write a function that reads a JSON file named `data.json` and prints its contents as a Python dictionary.\n",
    "\n",
    "### Assignment 15: File Permission Handling\n",
    "\n",
    "Write a function that attempts to read a file named `protected.txt` and handles any permission errors gracefully by printing an error message."
   ]
  },
  {
   "cell_type": "code",
   "execution_count": 5,
   "metadata": {},
   "outputs": [
    {
     "name": "stdout",
     "output_type": "stream",
     "text": [
      "this is file1\n",
      "reading from file1\n"
     ]
    }
   ],
   "source": [
    "#1\n",
    "\n",
    "def read_file(filename):\n",
    "    with open(filename, 'r') as file:\n",
    "        for line in file:\n",
    "            print(line.strip())\n",
    "\n",
    "read_file('sample.txt')\n",
    "    "
   ]
  },
  {
   "cell_type": "code",
   "execution_count": null,
   "id": "0847df79",
   "metadata": {},
   "outputs": [],
   "source": [
    "#2\n",
    "\n",
    "def write_file(filename):\n",
    "    lst = ['this is file1\\n', 'this is file2\\n', 'this is file3\\n']\n",
    "    with open(filename, 'w') as file:\n",
    "        file.writelines(lst)\n",
    "\n",
    "write_file('output.txt')"
   ]
  },
  {
   "cell_type": "code",
   "execution_count": 9,
   "id": "7cb32726",
   "metadata": {},
   "outputs": [],
   "source": [
    "#3\n",
    "\n",
    "def copy_file(source, destination):\n",
    "    with open(source, 'r') as read_file:\n",
    "        contnet = read_file.read()\n",
    "        \n",
    "    with open(destination, 'w') as write_file:\n",
    "        write_file.write(contnet)\n",
    "\n",
    "copy_file('source.txt', 'destination.txt')"
   ]
  },
  {
   "cell_type": "code",
   "execution_count": 11,
   "id": "b6935750",
   "metadata": {},
   "outputs": [],
   "source": [
    "#4\n",
    "\n",
    "def append_content(filename):\n",
    "    with open(filename, 'a') as file:\n",
    "        file.write('\\nthis is appended content')\n",
    "\n",
    "append_content('log.txt')"
   ]
  },
  {
   "cell_type": "code",
   "execution_count": 13,
   "id": "4d2f978f",
   "metadata": {},
   "outputs": [
    {
     "data": {
      "text/plain": [
       "13"
      ]
     },
     "execution_count": 13,
     "metadata": {},
     "output_type": "execute_result"
    }
   ],
   "source": [
    "#5\n",
    "\n",
    "def read_word_from_file(filename):\n",
    "    with open(filename, 'r') as file:\n",
    "        count = 0\n",
    "        for line in file:\n",
    "            count += len(line.split())\n",
    "\n",
    "    return count\n",
    "\n",
    "read_word_from_file('document.txt')\n"
   ]
  },
  {
   "cell_type": "code",
   "execution_count": 17,
   "id": "1fcd8100",
   "metadata": {},
   "outputs": [],
   "source": [
    "#6\n",
    "\n",
    "def replace_word_all_occurrences(filename, word):\n",
    "    with open(filename, 'r') as file:\n",
    "        content = file.read()\n",
    "\n",
    "    content = content.replace(word, 'python')\n",
    "\n",
    "    with open(filename, 'w') as file:\n",
    "        file.write(content)\n",
    "\n",
    "replace_word_all_occurrences('data.txt', 'data')"
   ]
  },
  {
   "cell_type": "code",
   "execution_count": 18,
   "id": "3673b22d",
   "metadata": {},
   "outputs": [
    {
     "name": "stdout",
     "output_type": "stream",
     "text": [
      "read content from reverse file\n",
      "this is reverse file\n"
     ]
    }
   ],
   "source": [
    "#7\n",
    "\n",
    "def read_file_in_reverse(filename):\n",
    "    with open(filename, 'r') as file:\n",
    "        for line in reversed(list(file)):\n",
    "            print(line.strip())\n",
    "\n",
    "read_file_in_reverse('reverse.txt')"
   ]
  },
  {
   "cell_type": "code",
   "execution_count": 19,
   "id": "8911d8cf",
   "metadata": {},
   "outputs": [
    {
     "name": "stdout",
     "output_type": "stream",
     "text": [
      "2 9 55\n"
     ]
    }
   ],
   "source": [
    "#8\n",
    "\n",
    "def count_line_words_character(filename):\n",
    "    with open(filename, 'r') as file:\n",
    "        count_line = 0\n",
    "        count_word = 0\n",
    "        count_character = 0\n",
    "        for line in file:\n",
    "            count_line += 1\n",
    "            count_word += len(line.split())\n",
    "            count_character += len(line)\n",
    "\n",
    "    print(count_line, count_word, count_character)\n",
    "\n",
    "count_line_words_character('stats.txt')"
   ]
  },
  {
   "cell_type": "code",
   "execution_count": 20,
   "id": "314c123f",
   "metadata": {},
   "outputs": [],
   "source": [
    "#9\n",
    "\n",
    "def merge_files(file1, file2, merge_file):\n",
    "    with open(file1, 'r') as f1, open(file2, 'r') as f2, open(merge_file, 'w') as f3:\n",
    "        f3.write(f1.read() + f2.read())\n",
    "\n",
    "merge_files('stats.txt', 'reverse.txt', 'merged_file.txt')"
   ]
  },
  {
   "cell_type": "code",
   "execution_count": null,
   "id": "3739a0e1",
   "metadata": {},
   "outputs": [],
   "source": [
    "#10\n",
    "\n"
   ]
  },
  {
   "cell_type": "code",
   "execution_count": 21,
   "id": "7f5aed4e",
   "metadata": {},
   "outputs": [],
   "source": [
    "#11\n",
    "\n",
    "import datetime\n",
    "\n",
    "def log_message(message, filename='activity.log'):\n",
    "    timestamp = datetime.datetime.now().isoformat()\n",
    "    with open(filename, 'a') as file:\n",
    "        file.write(f'{timestamp}: {message}\\n')\n",
    "\n",
    "log_message('User logged in')\n",
    "log_message('User logged out')"
   ]
  },
  {
   "cell_type": "code",
   "execution_count": null,
   "id": "633450bb",
   "metadata": {},
   "outputs": [],
   "source": [
    "#12\n",
    "\n",
    "def copy_binary_file(source, destination):\n",
    "    with open(source, 'rb') as src:\n",
    "        with open(destination, 'wb') as dest:\n",
    "            dest.write(src.read())\n",
    "\n",
    "\n",
    "copy_binary_file('image.bin', 'copy_image.bin')"
   ]
  },
  {
   "cell_type": "code",
   "execution_count": 26,
   "id": "6c3f2842",
   "metadata": {},
   "outputs": [
    {
     "name": "stdout",
     "output_type": "stream",
     "text": [
      "[{'ID': '1', 'Name': 'Alice', 'Subject': 'Math', 'Score': '85'}, {'ID': '2', 'Name': 'Bob', 'Subject': 'Science', 'Score': '78'}, {'ID': '3', 'Name': 'Charlie', 'Subject': 'English', 'Score': '92'}, {'ID': '4', 'Name': 'Diana', 'Subject': 'History', 'Score': '88'}, {'ID': '5', 'Name': 'Ethan', 'Subject': 'Math', 'Score': '76'}]\n"
     ]
    }
   ],
   "source": [
    "#13\n",
    "\n",
    "import csv\n",
    "\n",
    "def read_csv_as_dicts(filename='data.csv'):\n",
    "    with open(filename, 'r') as file:\n",
    "        reader = csv.DictReader(file)\n",
    "        print(list(reader))\n",
    "\n",
    "read_csv_as_dicts('data.csv')"
   ]
  },
  {
   "cell_type": "code",
   "execution_count": 27,
   "id": "b9cd82ff",
   "metadata": {},
   "outputs": [
    {
     "name": "stdout",
     "output_type": "stream",
     "text": [
      "[{'id': 1, 'name': 'Alice', 'email': 'alice@example.com', 'is_active': True, 'roles': ['admin', 'editor']}, {'id': 2, 'name': 'Bob', 'email': 'bob@example.com', 'is_active': False, 'roles': ['viewer']}, {'id': 3, 'name': 'Charlie', 'email': 'charlie@example.com', 'is_active': True, 'roles': ['editor', 'viewer']}]\n"
     ]
    }
   ],
   "source": [
    "#14\n",
    "\n",
    "import json\n",
    "\n",
    "def read_json(filename='data.json'):\n",
    "    with open(filename, 'r') as file:\n",
    "        data = json.load(file)\n",
    "        print(data)\n",
    "\n",
    "read_json('data.json')"
   ]
  },
  {
   "cell_type": "code",
   "execution_count": 28,
   "id": "27edfba1",
   "metadata": {},
   "outputs": [
    {
     "name": "stdout",
     "output_type": "stream",
     "text": [
      "this is protected file\n"
     ]
    }
   ],
   "source": [
    "def read_protected_file(filename):\n",
    "    try:\n",
    "        with open(filename, 'r') as file:\n",
    "            print(file.read())\n",
    "    except PermissionError as e:\n",
    "        print(e)\n",
    "\n",
    "read_protected_file('protected_file.txt')"
   ]
  }
 ],
 "metadata": {
  "kernelspec": {
   "display_name": "base",
   "language": "python",
   "name": "python3"
  },
  "language_info": {
   "codemirror_mode": {
    "name": "ipython",
    "version": 3
   },
   "file_extension": ".py",
   "mimetype": "text/x-python",
   "name": "python",
   "nbconvert_exporter": "python",
   "pygments_lexer": "ipython3",
   "version": "3.12.7"
  }
 },
 "nbformat": 4,
 "nbformat_minor": 5
}
